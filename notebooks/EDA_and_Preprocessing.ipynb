{
 "cells": [
  {
   "cell_type": "markdown",
   "id": "5beb5064b40152db",
   "metadata": {},
   "source": [
    "#  Student Exam Scores Prediction"
   ]
  },
  {
   "cell_type": "markdown",
   "id": "9d714b0e0c441f0e",
   "metadata": {},
   "source": [
    "#### In this notebook:\n",
    "\n",
    "1. Exploratory Data Analysis will be performed to figure out features with the most correlation to student exam scores. "
   ]
  },
  {
   "cell_type": "markdown",
   "id": "ec54b2b371e806eb",
   "metadata": {},
   "source": [
    "## Setup"
   ]
  },
  {
   "cell_type": "code",
   "id": "f1b94d66be91e1a7",
   "metadata": {
    "ExecuteTime": {
     "end_time": "2025-08-10T17:47:38.871243Z",
     "start_time": "2025-08-10T17:47:38.868682Z"
    }
   },
   "source": [
    "import numpy as np\n",
    "import pandas as pd\n",
    "import matplotlib.pyplot as plt\n",
    "import seaborn as sns\n",
    "import scipy.stats as stats\n",
    "from src.preprocess import load_data, cap_scores, fill_null_values, select_features, select_target, scale_features"
   ],
   "outputs": [],
   "execution_count": 1
  },
  {
   "cell_type": "code",
   "id": "b667fdf32d414df",
   "metadata": {
    "ExecuteTime": {
     "end_time": "2025-08-10T17:47:38.881493Z",
     "start_time": "2025-08-10T17:47:38.871720Z"
    }
   },
   "source": "df = load_data('../data/students_performance.zip')",
   "outputs": [],
   "execution_count": 2
  },
  {
   "cell_type": "markdown",
   "id": "dc3e9c814c5ae6a6",
   "metadata": {},
   "source": [
    "## EDA"
   ]
  },
  {
   "cell_type": "code",
   "id": "9a20574d1b3beddd",
   "metadata": {
    "ExecuteTime": {
     "end_time": "2025-08-10T17:47:38.889528Z",
     "start_time": "2025-08-10T17:47:38.882067Z"
    }
   },
   "source": [
    "df.head()"
   ],
   "outputs": [
    {
     "data": {
      "text/plain": [
       "   Hours_Studied  Attendance Parental_Involvement Access_to_Resources  \\\n",
       "0             23          84                  Low                High   \n",
       "1             19          64                  Low              Medium   \n",
       "2             24          98               Medium              Medium   \n",
       "3             29          89                  Low              Medium   \n",
       "4             19          92               Medium              Medium   \n",
       "\n",
       "  Extracurricular_Activities  Sleep_Hours  Previous_Scores Motivation_Level  \\\n",
       "0                         No            7               73              Low   \n",
       "1                         No            8               59              Low   \n",
       "2                        Yes            7               91           Medium   \n",
       "3                        Yes            8               98           Medium   \n",
       "4                        Yes            6               65           Medium   \n",
       "\n",
       "  Internet_Access  Tutoring_Sessions Family_Income Teacher_Quality  \\\n",
       "0             Yes                  0           Low          Medium   \n",
       "1             Yes                  2        Medium          Medium   \n",
       "2             Yes                  2        Medium          Medium   \n",
       "3             Yes                  1        Medium          Medium   \n",
       "4             Yes                  3        Medium            High   \n",
       "\n",
       "  School_Type Peer_Influence  Physical_Activity Learning_Disabilities  \\\n",
       "0      Public       Positive                  3                    No   \n",
       "1      Public       Negative                  4                    No   \n",
       "2      Public        Neutral                  4                    No   \n",
       "3      Public       Negative                  4                    No   \n",
       "4      Public        Neutral                  4                    No   \n",
       "\n",
       "  Parental_Education_Level Distance_from_Home  Gender  Exam_Score  \n",
       "0              High School               Near    Male          67  \n",
       "1                  College           Moderate  Female          61  \n",
       "2             Postgraduate               Near    Male          74  \n",
       "3              High School           Moderate    Male          71  \n",
       "4                  College               Near  Female          70  "
      ],
      "text/html": [
       "<div>\n",
       "<style scoped>\n",
       "    .dataframe tbody tr th:only-of-type {\n",
       "        vertical-align: middle;\n",
       "    }\n",
       "\n",
       "    .dataframe tbody tr th {\n",
       "        vertical-align: top;\n",
       "    }\n",
       "\n",
       "    .dataframe thead th {\n",
       "        text-align: right;\n",
       "    }\n",
       "</style>\n",
       "<table border=\"1\" class=\"dataframe\">\n",
       "  <thead>\n",
       "    <tr style=\"text-align: right;\">\n",
       "      <th></th>\n",
       "      <th>Hours_Studied</th>\n",
       "      <th>Attendance</th>\n",
       "      <th>Parental_Involvement</th>\n",
       "      <th>Access_to_Resources</th>\n",
       "      <th>Extracurricular_Activities</th>\n",
       "      <th>Sleep_Hours</th>\n",
       "      <th>Previous_Scores</th>\n",
       "      <th>Motivation_Level</th>\n",
       "      <th>Internet_Access</th>\n",
       "      <th>Tutoring_Sessions</th>\n",
       "      <th>Family_Income</th>\n",
       "      <th>Teacher_Quality</th>\n",
       "      <th>School_Type</th>\n",
       "      <th>Peer_Influence</th>\n",
       "      <th>Physical_Activity</th>\n",
       "      <th>Learning_Disabilities</th>\n",
       "      <th>Parental_Education_Level</th>\n",
       "      <th>Distance_from_Home</th>\n",
       "      <th>Gender</th>\n",
       "      <th>Exam_Score</th>\n",
       "    </tr>\n",
       "  </thead>\n",
       "  <tbody>\n",
       "    <tr>\n",
       "      <th>0</th>\n",
       "      <td>23</td>\n",
       "      <td>84</td>\n",
       "      <td>Low</td>\n",
       "      <td>High</td>\n",
       "      <td>No</td>\n",
       "      <td>7</td>\n",
       "      <td>73</td>\n",
       "      <td>Low</td>\n",
       "      <td>Yes</td>\n",
       "      <td>0</td>\n",
       "      <td>Low</td>\n",
       "      <td>Medium</td>\n",
       "      <td>Public</td>\n",
       "      <td>Positive</td>\n",
       "      <td>3</td>\n",
       "      <td>No</td>\n",
       "      <td>High School</td>\n",
       "      <td>Near</td>\n",
       "      <td>Male</td>\n",
       "      <td>67</td>\n",
       "    </tr>\n",
       "    <tr>\n",
       "      <th>1</th>\n",
       "      <td>19</td>\n",
       "      <td>64</td>\n",
       "      <td>Low</td>\n",
       "      <td>Medium</td>\n",
       "      <td>No</td>\n",
       "      <td>8</td>\n",
       "      <td>59</td>\n",
       "      <td>Low</td>\n",
       "      <td>Yes</td>\n",
       "      <td>2</td>\n",
       "      <td>Medium</td>\n",
       "      <td>Medium</td>\n",
       "      <td>Public</td>\n",
       "      <td>Negative</td>\n",
       "      <td>4</td>\n",
       "      <td>No</td>\n",
       "      <td>College</td>\n",
       "      <td>Moderate</td>\n",
       "      <td>Female</td>\n",
       "      <td>61</td>\n",
       "    </tr>\n",
       "    <tr>\n",
       "      <th>2</th>\n",
       "      <td>24</td>\n",
       "      <td>98</td>\n",
       "      <td>Medium</td>\n",
       "      <td>Medium</td>\n",
       "      <td>Yes</td>\n",
       "      <td>7</td>\n",
       "      <td>91</td>\n",
       "      <td>Medium</td>\n",
       "      <td>Yes</td>\n",
       "      <td>2</td>\n",
       "      <td>Medium</td>\n",
       "      <td>Medium</td>\n",
       "      <td>Public</td>\n",
       "      <td>Neutral</td>\n",
       "      <td>4</td>\n",
       "      <td>No</td>\n",
       "      <td>Postgraduate</td>\n",
       "      <td>Near</td>\n",
       "      <td>Male</td>\n",
       "      <td>74</td>\n",
       "    </tr>\n",
       "    <tr>\n",
       "      <th>3</th>\n",
       "      <td>29</td>\n",
       "      <td>89</td>\n",
       "      <td>Low</td>\n",
       "      <td>Medium</td>\n",
       "      <td>Yes</td>\n",
       "      <td>8</td>\n",
       "      <td>98</td>\n",
       "      <td>Medium</td>\n",
       "      <td>Yes</td>\n",
       "      <td>1</td>\n",
       "      <td>Medium</td>\n",
       "      <td>Medium</td>\n",
       "      <td>Public</td>\n",
       "      <td>Negative</td>\n",
       "      <td>4</td>\n",
       "      <td>No</td>\n",
       "      <td>High School</td>\n",
       "      <td>Moderate</td>\n",
       "      <td>Male</td>\n",
       "      <td>71</td>\n",
       "    </tr>\n",
       "    <tr>\n",
       "      <th>4</th>\n",
       "      <td>19</td>\n",
       "      <td>92</td>\n",
       "      <td>Medium</td>\n",
       "      <td>Medium</td>\n",
       "      <td>Yes</td>\n",
       "      <td>6</td>\n",
       "      <td>65</td>\n",
       "      <td>Medium</td>\n",
       "      <td>Yes</td>\n",
       "      <td>3</td>\n",
       "      <td>Medium</td>\n",
       "      <td>High</td>\n",
       "      <td>Public</td>\n",
       "      <td>Neutral</td>\n",
       "      <td>4</td>\n",
       "      <td>No</td>\n",
       "      <td>College</td>\n",
       "      <td>Near</td>\n",
       "      <td>Female</td>\n",
       "      <td>70</td>\n",
       "    </tr>\n",
       "  </tbody>\n",
       "</table>\n",
       "</div>"
      ]
     },
     "execution_count": 3,
     "metadata": {},
     "output_type": "execute_result"
    }
   ],
   "execution_count": 3
  },
  {
   "cell_type": "markdown",
   "id": "59e1623c9eeea125",
   "metadata": {},
   "source": []
  },
  {
   "cell_type": "code",
   "id": "8293c1eaa5230dfb",
   "metadata": {
    "ExecuteTime": {
     "end_time": "2025-08-10T17:47:38.895428Z",
     "start_time": "2025-08-10T17:47:38.890235Z"
    }
   },
   "source": [
    "X = df.iloc[:, :-1]\n",
    "X.head()"
   ],
   "outputs": [
    {
     "data": {
      "text/plain": [
       "   Hours_Studied  Attendance Parental_Involvement Access_to_Resources  \\\n",
       "0             23          84                  Low                High   \n",
       "1             19          64                  Low              Medium   \n",
       "2             24          98               Medium              Medium   \n",
       "3             29          89                  Low              Medium   \n",
       "4             19          92               Medium              Medium   \n",
       "\n",
       "  Extracurricular_Activities  Sleep_Hours  Previous_Scores Motivation_Level  \\\n",
       "0                         No            7               73              Low   \n",
       "1                         No            8               59              Low   \n",
       "2                        Yes            7               91           Medium   \n",
       "3                        Yes            8               98           Medium   \n",
       "4                        Yes            6               65           Medium   \n",
       "\n",
       "  Internet_Access  Tutoring_Sessions Family_Income Teacher_Quality  \\\n",
       "0             Yes                  0           Low          Medium   \n",
       "1             Yes                  2        Medium          Medium   \n",
       "2             Yes                  2        Medium          Medium   \n",
       "3             Yes                  1        Medium          Medium   \n",
       "4             Yes                  3        Medium            High   \n",
       "\n",
       "  School_Type Peer_Influence  Physical_Activity Learning_Disabilities  \\\n",
       "0      Public       Positive                  3                    No   \n",
       "1      Public       Negative                  4                    No   \n",
       "2      Public        Neutral                  4                    No   \n",
       "3      Public       Negative                  4                    No   \n",
       "4      Public        Neutral                  4                    No   \n",
       "\n",
       "  Parental_Education_Level Distance_from_Home  Gender  \n",
       "0              High School               Near    Male  \n",
       "1                  College           Moderate  Female  \n",
       "2             Postgraduate               Near    Male  \n",
       "3              High School           Moderate    Male  \n",
       "4                  College               Near  Female  "
      ],
      "text/html": [
       "<div>\n",
       "<style scoped>\n",
       "    .dataframe tbody tr th:only-of-type {\n",
       "        vertical-align: middle;\n",
       "    }\n",
       "\n",
       "    .dataframe tbody tr th {\n",
       "        vertical-align: top;\n",
       "    }\n",
       "\n",
       "    .dataframe thead th {\n",
       "        text-align: right;\n",
       "    }\n",
       "</style>\n",
       "<table border=\"1\" class=\"dataframe\">\n",
       "  <thead>\n",
       "    <tr style=\"text-align: right;\">\n",
       "      <th></th>\n",
       "      <th>Hours_Studied</th>\n",
       "      <th>Attendance</th>\n",
       "      <th>Parental_Involvement</th>\n",
       "      <th>Access_to_Resources</th>\n",
       "      <th>Extracurricular_Activities</th>\n",
       "      <th>Sleep_Hours</th>\n",
       "      <th>Previous_Scores</th>\n",
       "      <th>Motivation_Level</th>\n",
       "      <th>Internet_Access</th>\n",
       "      <th>Tutoring_Sessions</th>\n",
       "      <th>Family_Income</th>\n",
       "      <th>Teacher_Quality</th>\n",
       "      <th>School_Type</th>\n",
       "      <th>Peer_Influence</th>\n",
       "      <th>Physical_Activity</th>\n",
       "      <th>Learning_Disabilities</th>\n",
       "      <th>Parental_Education_Level</th>\n",
       "      <th>Distance_from_Home</th>\n",
       "      <th>Gender</th>\n",
       "    </tr>\n",
       "  </thead>\n",
       "  <tbody>\n",
       "    <tr>\n",
       "      <th>0</th>\n",
       "      <td>23</td>\n",
       "      <td>84</td>\n",
       "      <td>Low</td>\n",
       "      <td>High</td>\n",
       "      <td>No</td>\n",
       "      <td>7</td>\n",
       "      <td>73</td>\n",
       "      <td>Low</td>\n",
       "      <td>Yes</td>\n",
       "      <td>0</td>\n",
       "      <td>Low</td>\n",
       "      <td>Medium</td>\n",
       "      <td>Public</td>\n",
       "      <td>Positive</td>\n",
       "      <td>3</td>\n",
       "      <td>No</td>\n",
       "      <td>High School</td>\n",
       "      <td>Near</td>\n",
       "      <td>Male</td>\n",
       "    </tr>\n",
       "    <tr>\n",
       "      <th>1</th>\n",
       "      <td>19</td>\n",
       "      <td>64</td>\n",
       "      <td>Low</td>\n",
       "      <td>Medium</td>\n",
       "      <td>No</td>\n",
       "      <td>8</td>\n",
       "      <td>59</td>\n",
       "      <td>Low</td>\n",
       "      <td>Yes</td>\n",
       "      <td>2</td>\n",
       "      <td>Medium</td>\n",
       "      <td>Medium</td>\n",
       "      <td>Public</td>\n",
       "      <td>Negative</td>\n",
       "      <td>4</td>\n",
       "      <td>No</td>\n",
       "      <td>College</td>\n",
       "      <td>Moderate</td>\n",
       "      <td>Female</td>\n",
       "    </tr>\n",
       "    <tr>\n",
       "      <th>2</th>\n",
       "      <td>24</td>\n",
       "      <td>98</td>\n",
       "      <td>Medium</td>\n",
       "      <td>Medium</td>\n",
       "      <td>Yes</td>\n",
       "      <td>7</td>\n",
       "      <td>91</td>\n",
       "      <td>Medium</td>\n",
       "      <td>Yes</td>\n",
       "      <td>2</td>\n",
       "      <td>Medium</td>\n",
       "      <td>Medium</td>\n",
       "      <td>Public</td>\n",
       "      <td>Neutral</td>\n",
       "      <td>4</td>\n",
       "      <td>No</td>\n",
       "      <td>Postgraduate</td>\n",
       "      <td>Near</td>\n",
       "      <td>Male</td>\n",
       "    </tr>\n",
       "    <tr>\n",
       "      <th>3</th>\n",
       "      <td>29</td>\n",
       "      <td>89</td>\n",
       "      <td>Low</td>\n",
       "      <td>Medium</td>\n",
       "      <td>Yes</td>\n",
       "      <td>8</td>\n",
       "      <td>98</td>\n",
       "      <td>Medium</td>\n",
       "      <td>Yes</td>\n",
       "      <td>1</td>\n",
       "      <td>Medium</td>\n",
       "      <td>Medium</td>\n",
       "      <td>Public</td>\n",
       "      <td>Negative</td>\n",
       "      <td>4</td>\n",
       "      <td>No</td>\n",
       "      <td>High School</td>\n",
       "      <td>Moderate</td>\n",
       "      <td>Male</td>\n",
       "    </tr>\n",
       "    <tr>\n",
       "      <th>4</th>\n",
       "      <td>19</td>\n",
       "      <td>92</td>\n",
       "      <td>Medium</td>\n",
       "      <td>Medium</td>\n",
       "      <td>Yes</td>\n",
       "      <td>6</td>\n",
       "      <td>65</td>\n",
       "      <td>Medium</td>\n",
       "      <td>Yes</td>\n",
       "      <td>3</td>\n",
       "      <td>Medium</td>\n",
       "      <td>High</td>\n",
       "      <td>Public</td>\n",
       "      <td>Neutral</td>\n",
       "      <td>4</td>\n",
       "      <td>No</td>\n",
       "      <td>College</td>\n",
       "      <td>Near</td>\n",
       "      <td>Female</td>\n",
       "    </tr>\n",
       "  </tbody>\n",
       "</table>\n",
       "</div>"
      ]
     },
     "execution_count": 4,
     "metadata": {},
     "output_type": "execute_result"
    }
   ],
   "execution_count": 4
  },
  {
   "cell_type": "markdown",
   "id": "bddd49e0c6afa2c8",
   "metadata": {},
   "source": [
    "As we can see, there's plenty of features. We'll do some correlation tests to reduce dimensionality for better performance later.\n",
    "\n",
    "But before that, let's take a look whether the exam scores are evenly distributed."
   ]
  },
  {
   "cell_type": "markdown",
   "id": "ef7690fcfea0e18e",
   "metadata": {},
   "source": [
    "### Target variable distribution"
   ]
  },
  {
   "cell_type": "code",
   "id": "c4af003b94d95224",
   "metadata": {
    "ExecuteTime": {
     "end_time": "2025-08-10T17:47:39.038068Z",
     "start_time": "2025-08-10T17:47:38.895950Z"
    }
   },
   "source": [
    "y = df['Exam_Score']\n",
    "\n",
    "print(y.describe())\n",
    "\n",
    "plt.figure(figsize=(8, 5))\n",
    "sns.histplot(y, kde=True, bins=40)\n",
    "plt.title('Distribution of Exam Scores')\n",
    "plt.xlabel('Exam Score')\n",
    "plt.ylabel('Count')\n",
    "plt.show()\n",
    "\n",
    "plt.figure(figsize=(6, 6))\n",
    "stats.probplot(y, dist='norm', plot=plt)\n",
    "plt.title('Q-Q Plot of Exam Scores')\n",
    "plt.show()"
   ],
   "outputs": [
    {
     "name": "stdout",
     "output_type": "stream",
     "text": [
      "count    6607.000000\n",
      "mean       67.235659\n",
      "std         3.890456\n",
      "min        55.000000\n",
      "25%        65.000000\n",
      "50%        67.000000\n",
      "75%        69.000000\n",
      "max       101.000000\n",
      "Name: Exam_Score, dtype: float64\n"
     ]
    },
    {
     "data": {
      "text/plain": [
       "<Figure size 800x500 with 1 Axes>"
      ],
      "image/png": "[encoded data removed]"
     },
     "metadata": {},
     "output_type": "display_data"
    },
    {
     "data": {
      "text/plain": [
       "<Figure size 600x600 with 1 Axes>"
      ],
      "image/png": "[encoded data removed]"
     },
     "metadata": {},
     "output_type": "display_data"
    }
   ],
   "execution_count": 5
  },
  {
   "cell_type": "markdown",
   "id": "3d96068b5569c973",
   "metadata": {},
   "source": [
    "#### As we can see:\n",
    "1. The data pretty much follows the normal distribution in the middle-range (say from the 20th to 80th percentile), however there are some outliers in the lower end, and much more on the higher end.\n",
    "2. Exam scores range between 55 and 101 points. Most likely, the 101 is an error, so I will ceil those values to 100 next.\n",
    "3. Majority of students fall in the 60-75 range. \n",
    "4. Students with scores lower than 60 could be considered underperformers, and might be of interest to their teachers for early exam fail prevention."
   ]
  },
  {
   "cell_type": "code",
   "id": "621835a01ac6702f",
   "metadata": {
    "ExecuteTime": {
     "end_time": "2025-08-10T17:47:39.042256Z",
     "start_time": "2025-08-10T17:47:39.038718Z"
    }
   },
   "source": [
    "df = cap_scores(df, 100)\n",
    "\n",
    "print(df['Exam_Score'].describe())"
   ],
   "outputs": [
    {
     "name": "stdout",
     "output_type": "stream",
     "text": [
      "count    6607.000000\n",
      "mean       67.235508\n",
      "std         3.889161\n",
      "min        55.000000\n",
      "25%        65.000000\n",
      "50%        67.000000\n",
      "75%        69.000000\n",
      "max       100.000000\n",
      "Name: Exam_Score, dtype: float64\n"
     ]
    }
   ],
   "execution_count": 6
  },
  {
   "cell_type": "markdown",
   "id": "aaa40fefac1dd8b7",
   "metadata": {},
   "source": [
    "## Data Quality & Completeness"
   ]
  },
  {
   "cell_type": "code",
   "id": "1c122c2032ef294",
   "metadata": {
    "ExecuteTime": {
     "end_time": "2025-08-10T17:47:39.049663Z",
     "start_time": "2025-08-10T17:47:39.042968Z"
    }
   },
   "source": [
    "# Checking for null values :D\n",
    "\n",
    "missing_cnt   = df.isna().sum()\n",
    "missing_pct   = (df.isna().mean() * 100).round(2)\n",
    "missing_table = pd.concat([missing_cnt, missing_pct], axis=1, keys=['missing_count','percent_missing'])\n",
    "print(missing_table)"
   ],
   "outputs": [
    {
     "name": "stdout",
     "output_type": "stream",
     "text": [
      "                            missing_count  percent_missing\n",
      "Hours_Studied                           0             0.00\n",
      "Attendance                              0             0.00\n",
      "Parental_Involvement                    0             0.00\n",
      "Access_to_Resources                     0             0.00\n",
      "Extracurricular_Activities              0             0.00\n",
      "Sleep_Hours                             0             0.00\n",
      "Previous_Scores                         0             0.00\n",
      "Motivation_Level                        0             0.00\n",
      "Internet_Access                         0             0.00\n",
      "Tutoring_Sessions                       0             0.00\n",
      "Family_Income                           0             0.00\n",
      "Teacher_Quality                        78             1.18\n",
      "School_Type                             0             0.00\n",
      "Peer_Influence                          0             0.00\n",
      "Physical_Activity                       0             0.00\n",
      "Learning_Disabilities                   0             0.00\n",
      "Parental_Education_Level               90             1.36\n",
      "Distance_from_Home                     67             1.01\n",
      "Gender                                  0             0.00\n",
      "Exam_Score                              0             0.00\n"
     ]
    }
   ],
   "execution_count": 7
  },
  {
   "cell_type": "markdown",
   "id": "f1d23488d4cbc069",
   "metadata": {},
   "source": [
    "Teacher_Quality, Parental_Education_Level and Distance_from_Home can be null from time to time\n",
    "\n",
    "As the number of missing values isn't significant, we can fill them using .fillna, that won't have a huge effect on our results.  \n",
    "\n",
    "All the missing values are categorical, so we'll use the mode here."
   ]
  },
  {
   "cell_type": "code",
   "id": "4d400719551f24de",
   "metadata": {
    "ExecuteTime": {
     "end_time": "2025-08-10T17:47:39.062033Z",
     "start_time": "2025-08-10T17:47:39.052063Z"
    }
   },
   "source": [
    "# Filling null values\n",
    "\n",
    "null_cols = ['Teacher_Quality', 'Parental_Education_Level', 'Distance_from_Home']\n",
    "\n",
    "df = fill_null_values(df)\n",
    "\n",
    "print(df[null_cols].isna().sum())"
   ],
   "outputs": [
    {
     "name": "stdout",
     "output_type": "stream",
     "text": [
      "Teacher_Quality             0\n",
      "Parental_Education_Level    0\n",
      "Distance_from_Home          0\n",
      "dtype: int64\n"
     ]
    }
   ],
   "execution_count": 8
  },
  {
   "cell_type": "code",
   "id": "e032373c6233c9ca",
   "metadata": {
    "ExecuteTime": {
     "end_time": "2025-08-10T17:47:39.068262Z",
     "start_time": "2025-08-10T17:47:39.062680Z"
    }
   },
   "source": [
    "# Checking for duplicates :)\n",
    "\n",
    "dupe_count = df.duplicated().sum()\n",
    "print(f\"Number of exact duplicate rows: {dupe_count}\")"
   ],
   "outputs": [
    {
     "name": "stdout",
     "output_type": "stream",
     "text": [
      "Number of exact duplicate rows: 0\n"
     ]
    }
   ],
   "execution_count": 9
  },
  {
   "cell_type": "markdown",
   "id": "13d2d59b7cbe4083",
   "metadata": {},
   "source": [
    "No duplicates, the data looks pretty good now"
   ]
  },
  {
   "cell_type": "markdown",
   "id": "e278766d09b2a74c",
   "metadata": {},
   "source": [
    "## Feature selection\n",
    "\n",
    "As we have both numeric and categorical features, we will have to test them separately. "
   ]
  },
  {
   "cell_type": "markdown",
   "id": "8a933760e24c37dc",
   "metadata": {},
   "source": [
    "#### Numeric features\n",
    "We'll perform pearson's r (Linear Correlation) and Spearman’s ρ (Rank Correlation) tests here."
   ]
  },
  {
   "cell_type": "code",
   "id": "6b4bce6403f0a041",
   "metadata": {
    "ExecuteTime": {
     "end_time": "2025-08-10T17:47:39.072821Z",
     "start_time": "2025-08-10T17:47:39.068819Z"
    }
   },
   "source": [
    "num_cols = df.select_dtypes(include=[np.number]).columns.tolist()\n",
    "num_cols.remove('Exam_Score')\n",
    "\n",
    "pearson_corr = df[num_cols + ['Exam_Score']].corr(method='pearson')['Exam_Score'] \\\n",
    "                  .drop('Exam_Score') \\\n",
    "                  .abs() \\\n",
    "                  .sort_values(ascending=False)\n",
    "print(\"Top Pearson correlations with Exam_Score:\\n\", pearson_corr.head(10))\n"
   ],
   "outputs": [
    {
     "name": "stdout",
     "output_type": "stream",
     "text": [
      "Top Pearson correlations with Exam_Score:\n",
      " Attendance           0.581205\n",
      "Hours_Studied        0.445558\n",
      "Previous_Scores      0.175089\n",
      "Tutoring_Sessions    0.156466\n",
      "Physical_Activity    0.027832\n",
      "Sleep_Hours          0.017000\n",
      "Name: Exam_Score, dtype: float64\n"
     ]
    }
   ],
   "execution_count": 10
  },
  {
   "cell_type": "code",
   "id": "50c013dc983be5b6",
   "metadata": {
    "ExecuteTime": {
     "end_time": "2025-08-10T17:47:39.078679Z",
     "start_time": "2025-08-10T17:47:39.073328Z"
    }
   },
   "source": [
    "spearman_corr = df[num_cols + ['Exam_Score']].corr(method='spearman')['Exam_Score'] \\\n",
    "                    .drop('Exam_Score') \\\n",
    "                    .abs() \\\n",
    "                    .sort_values(ascending=False)\n",
    "print(\"\\nTop Spearman correlations with Exam_Score:\\n\", spearman_corr.head(10))"
   ],
   "outputs": [
    {
     "name": "stdout",
     "output_type": "stream",
     "text": [
      "\n",
      "Top Spearman correlations with Exam_Score:\n",
      " Attendance           0.672366\n",
      "Hours_Studied        0.480956\n",
      "Previous_Scores      0.191941\n",
      "Tutoring_Sessions    0.163940\n",
      "Physical_Activity    0.029150\n",
      "Sleep_Hours          0.007629\n",
      "Name: Exam_Score, dtype: float64\n"
     ]
    }
   ],
   "execution_count": 11
  },
  {
   "cell_type": "markdown",
   "id": "c3003c1b635866c3",
   "metadata": {},
   "source": [
    "Attendance and Hours studied have huge correlation with exam scores on both tests, so we'll definitely keep those. \n",
    "\n",
    "The other features don't seem significant enough."
   ]
  },
  {
   "cell_type": "markdown",
   "id": "87502b97598e78aa",
   "metadata": {},
   "source": [
    "#### Categorical features\n",
    "\n",
    "We'll perform an ANOVA F test to pick the most significant features\n",
    "\n",
    "The features will be \"One-hot encoded\", which means a feature with K categories will be transformed into K boolean features\n",
    "\n",
    "\n",
    "\n",
    "e.g. before:\n",
    "\n",
    "* Access_to_Resources -> Low/Medium/High\n",
    "\n",
    "after:\n",
    "\n",
    "* Access_to_Resources_Low -> True/False\n",
    "\n",
    "* Access_to_Resources_Medium -> True/False\n",
    "\n",
    "* Access_to_Resources_High -> True/False\n",
    "\n",
    "\n",
    "P.S. I explicitly didn't drop any columns in the encoding here to check for significance among all feature values\n"
   ]
  },
  {
   "cell_type": "code",
   "id": "14580fc7eda69dd6",
   "metadata": {
    "ExecuteTime": {
     "end_time": "2025-08-10T17:47:39.428296Z",
     "start_time": "2025-08-10T17:47:39.079193Z"
    }
   },
   "source": [
    "from sklearn.feature_selection import SelectKBest, f_regression\n",
    "from sklearn.preprocessing    import OneHotEncoder\n",
    "from sklearn.compose          import ColumnTransformer\n",
    "\n",
    "cat_cols = df.select_dtypes(include=['object','category']).columns.tolist()\n",
    "\n",
    "pre = ColumnTransformer([\n",
    "    ('ohe', OneHotEncoder(drop=None), cat_cols)\n",
    "], remainder='drop')\n",
    "\n",
    "X_cat_ohe = pd.DataFrame(\n",
    "    pre.fit_transform(df),\n",
    "    columns=pre.get_feature_names_out()\n",
    ")\n",
    "\n",
    "selector = SelectKBest(f_regression, k=14)\n",
    "selector.fit(X_cat_ohe, df['Exam_Score'])\n",
    "\n",
    "f_scores = pd.Series(selector.scores_, index=X_cat_ohe.columns)\n",
    "print(\"Top categorical features by F-score:\\n\", f_scores.sort_values(ascending=False).head(14))"
   ],
   "outputs": [
    {
     "name": "stdout",
     "output_type": "stream",
     "text": [
      "Top categorical features by F-score:\n",
      " ohe__Access_to_Resources_High                 139.542252\n",
      "ohe__Parental_Involvement_High                132.947133\n",
      "ohe__Access_to_Resources_Low                  117.450124\n",
      "ohe__Parental_Involvement_Low                  86.532715\n",
      "ohe__Parental_Education_Level_Postgraduate     58.647910\n",
      "ohe__Peer_Influence_Negative                   52.219362\n",
      "ohe__Parental_Education_Level_High School      50.516698\n",
      "ohe__Learning_Disabilities_No                  48.160459\n",
      "ohe__Learning_Disabilities_Yes                 48.160459\n",
      "ohe__Family_Income_Low                         44.735325\n",
      "ohe__Peer_Influence_Positive                   43.834508\n",
      "ohe__Distance_from_Home_Near                   43.629910\n",
      "ohe__Motivation_Level_Low                      42.679778\n",
      "ohe__Family_Income_High                        38.363049\n",
      "dtype: float64\n"
     ]
    }
   ],
   "execution_count": 12
  },
  {
   "cell_type": "markdown",
   "id": "19f18a69177e4bdd",
   "metadata": {},
   "source": [
    "Woah! That's a lot of correlation here. My features of choice here are:\n",
    "* Access_to_Resources\n",
    "* Parental_Involvement\n",
    "* Parental_Education_Level \n",
    "* Peer_Influence\n",
    "* Learning_Disabilities\n",
    "\n",
    "Now the confusing part. We will have to keep k-1 columns for each feature, where k is feature's categories count. K-1 cause that one category can be identified as \"neither\". e.g. When all other categories are 0 "
   ]
  },
  {
   "cell_type": "code",
   "id": "46273d1e6ba0d4a",
   "metadata": {
    "ExecuteTime": {
     "end_time": "2025-08-10T17:47:39.437925Z",
     "start_time": "2025-08-10T17:47:39.428810Z"
    }
   },
   "source": [
    "cat_cols = [\n",
    "    'Access_to_Resources',\n",
    "    'Parental_Involvement',\n",
    "    'Parental_Education_Level',\n",
    "    'Peer_Influence',\n",
    "    'Learning_Disabilities'\n",
    "]\n",
    "num_cols = ['Attendance', 'Hours_Studied']\n",
    "\n",
    "X = select_features(df, cat_cols, num_cols)\n",
    "y = select_target(df, 'Exam_Score')\n",
    "\n",
    "X.head()"
   ],
   "outputs": [
    {
     "data": {
      "text/plain": [
       "   Attendance  Hours_Studied  Access_to_Resources_Low  \\\n",
       "0          84             23                    False   \n",
       "1          64             19                    False   \n",
       "2          98             24                    False   \n",
       "3          89             29                    False   \n",
       "4          92             19                    False   \n",
       "\n",
       "   Access_to_Resources_Medium  Parental_Involvement_Low  \\\n",
       "0                       False                      True   \n",
       "1                        True                      True   \n",
       "2                        True                     False   \n",
       "3                        True                      True   \n",
       "4                        True                     False   \n",
       "\n",
       "   Parental_Involvement_Medium  Parental_Education_Level_High School  \\\n",
       "0                        False                                  True   \n",
       "1                        False                                 False   \n",
       "2                         True                                 False   \n",
       "3                        False                                  True   \n",
       "4                         True                                 False   \n",
       "\n",
       "   Parental_Education_Level_Postgraduate  Peer_Influence_Neutral  \\\n",
       "0                                  False                   False   \n",
       "1                                  False                   False   \n",
       "2                                   True                    True   \n",
       "3                                  False                   False   \n",
       "4                                  False                    True   \n",
       "\n",
       "   Peer_Influence_Positive  Learning_Disabilities_Yes  \n",
       "0                     True                      False  \n",
       "1                    False                      False  \n",
       "2                    False                      False  \n",
       "3                    False                      False  \n",
       "4                    False                      False  "
      ],
      "text/html": [
       "<div>\n",
       "<style scoped>\n",
       "    .dataframe tbody tr th:only-of-type {\n",
       "        vertical-align: middle;\n",
       "    }\n",
       "\n",
       "    .dataframe tbody tr th {\n",
       "        vertical-align: top;\n",
       "    }\n",
       "\n",
       "    .dataframe thead th {\n",
       "        text-align: right;\n",
       "    }\n",
       "</style>\n",
       "<table border=\"1\" class=\"dataframe\">\n",
       "  <thead>\n",
       "    <tr style=\"text-align: right;\">\n",
       "      <th></th>\n",
       "      <th>Attendance</th>\n",
       "      <th>Hours_Studied</th>\n",
       "      <th>Access_to_Resources_Low</th>\n",
       "      <th>Access_to_Resources_Medium</th>\n",
       "      <th>Parental_Involvement_Low</th>\n",
       "      <th>Parental_Involvement_Medium</th>\n",
       "      <th>Parental_Education_Level_High School</th>\n",
       "      <th>Parental_Education_Level_Postgraduate</th>\n",
       "      <th>Peer_Influence_Neutral</th>\n",
       "      <th>Peer_Influence_Positive</th>\n",
       "      <th>Learning_Disabilities_Yes</th>\n",
       "    </tr>\n",
       "  </thead>\n",
       "  <tbody>\n",
       "    <tr>\n",
       "      <th>0</th>\n",
       "      <td>84</td>\n",
       "      <td>23</td>\n",
       "      <td>False</td>\n",
       "      <td>False</td>\n",
       "      <td>True</td>\n",
       "      <td>False</td>\n",
       "      <td>True</td>\n",
       "      <td>False</td>\n",
       "      <td>False</td>\n",
       "      <td>True</td>\n",
       "      <td>False</td>\n",
       "    </tr>\n",
       "    <tr>\n",
       "      <th>1</th>\n",
       "      <td>64</td>\n",
       "      <td>19</td>\n",
       "      <td>False</td>\n",
       "      <td>True</td>\n",
       "      <td>True</td>\n",
       "      <td>False</td>\n",
       "      <td>False</td>\n",
       "      <td>False</td>\n",
       "      <td>False</td>\n",
       "      <td>False</td>\n",
       "      <td>False</td>\n",
       "    </tr>\n",
       "    <tr>\n",
       "      <th>2</th>\n",
       "      <td>98</td>\n",
       "      <td>24</td>\n",
       "      <td>False</td>\n",
       "      <td>True</td>\n",
       "      <td>False</td>\n",
       "      <td>True</td>\n",
       "      <td>False</td>\n",
       "      <td>True</td>\n",
       "      <td>True</td>\n",
       "      <td>False</td>\n",
       "      <td>False</td>\n",
       "    </tr>\n",
       "    <tr>\n",
       "      <th>3</th>\n",
       "      <td>89</td>\n",
       "      <td>29</td>\n",
       "      <td>False</td>\n",
       "      <td>True</td>\n",
       "      <td>True</td>\n",
       "      <td>False</td>\n",
       "      <td>True</td>\n",
       "      <td>False</td>\n",
       "      <td>False</td>\n",
       "      <td>False</td>\n",
       "      <td>False</td>\n",
       "    </tr>\n",
       "    <tr>\n",
       "      <th>4</th>\n",
       "      <td>92</td>\n",
       "      <td>19</td>\n",
       "      <td>False</td>\n",
       "      <td>True</td>\n",
       "      <td>False</td>\n",
       "      <td>True</td>\n",
       "      <td>False</td>\n",
       "      <td>False</td>\n",
       "      <td>True</td>\n",
       "      <td>False</td>\n",
       "      <td>False</td>\n",
       "    </tr>\n",
       "  </tbody>\n",
       "</table>\n",
       "</div>"
      ]
     },
     "execution_count": 13,
     "metadata": {},
     "output_type": "execute_result"
    }
   ],
   "execution_count": 13
  },
  {
   "cell_type": "code",
   "id": "fdb240b91675b303",
   "metadata": {
    "ExecuteTime": {
     "end_time": "2025-08-10T17:47:39.441343Z",
     "start_time": "2025-08-10T17:47:39.438798Z"
    }
   },
   "source": [
    "y.head()"
   ],
   "outputs": [
    {
     "data": {
      "text/plain": [
       "0    67\n",
       "1    61\n",
       "2    74\n",
       "3    71\n",
       "4    70\n",
       "Name: Exam_Score, dtype: int64"
      ]
     },
     "execution_count": 14,
     "metadata": {},
     "output_type": "execute_result"
    }
   ],
   "execution_count": 14
  },
  {
   "cell_type": "markdown",
   "id": "f86fd2f5f79b007c",
   "metadata": {},
   "source": [
    "#### Feature scaling\n",
    "\n",
    "\n",
    "We have 11 features, which is quite a lot. Hopefully our algorithms will be able to handle that :)\n",
    "    \n",
    "To help them a little, lets scale the numeric features."
   ]
  },
  {
   "cell_type": "code",
   "id": "afe546a682b8ec93",
   "metadata": {
    "ExecuteTime": {
     "end_time": "2025-08-10T17:47:39.447518Z",
     "start_time": "2025-08-10T17:47:39.442057Z"
    }
   },
   "source": [
    "num_cols = ['Attendance', 'Hours_Studied']\n",
    "\n",
    "X = scale_features(X)\n",
    "X.head()"
   ],
   "outputs": [
    {
     "data": {
      "text/plain": [
       "   Attendance  Hours_Studied  Access_to_Resources_Low  \\\n",
       "0    0.348375       0.504942                    False   \n",
       "1   -1.383736      -0.162822                    False   \n",
       "2    1.560853       0.671882                    False   \n",
       "3    0.781403       1.506587                    False   \n",
       "4    1.041220      -0.162822                    False   \n",
       "\n",
       "   Access_to_Resources_Medium  Parental_Involvement_Low  \\\n",
       "0                       False                      True   \n",
       "1                        True                      True   \n",
       "2                        True                     False   \n",
       "3                        True                      True   \n",
       "4                        True                     False   \n",
       "\n",
       "   Parental_Involvement_Medium  Parental_Education_Level_High School  \\\n",
       "0                        False                                  True   \n",
       "1                        False                                 False   \n",
       "2                         True                                 False   \n",
       "3                        False                                  True   \n",
       "4                         True                                 False   \n",
       "\n",
       "   Parental_Education_Level_Postgraduate  Peer_Influence_Neutral  \\\n",
       "0                                  False                   False   \n",
       "1                                  False                   False   \n",
       "2                                   True                    True   \n",
       "3                                  False                   False   \n",
       "4                                  False                    True   \n",
       "\n",
       "   Peer_Influence_Positive  Learning_Disabilities_Yes  \n",
       "0                     True                      False  \n",
       "1                    False                      False  \n",
       "2                    False                      False  \n",
       "3                    False                      False  \n",
       "4                    False                      False  "
      ],
      "text/html": [
       "<div>\n",
       "<style scoped>\n",
       "    .dataframe tbody tr th:only-of-type {\n",
       "        vertical-align: middle;\n",
       "    }\n",
       "\n",
       "    .dataframe tbody tr th {\n",
       "        vertical-align: top;\n",
       "    }\n",
       "\n",
       "    .dataframe thead th {\n",
       "        text-align: right;\n",
       "    }\n",
       "</style>\n",
       "<table border=\"1\" class=\"dataframe\">\n",
       "  <thead>\n",
       "    <tr style=\"text-align: right;\">\n",
       "      <th></th>\n",
       "      <th>Attendance</th>\n",
       "      <th>Hours_Studied</th>\n",
       "      <th>Access_to_Resources_Low</th>\n",
       "      <th>Access_to_Resources_Medium</th>\n",
       "      <th>Parental_Involvement_Low</th>\n",
       "      <th>Parental_Involvement_Medium</th>\n",
       "      <th>Parental_Education_Level_High School</th>\n",
       "      <th>Parental_Education_Level_Postgraduate</th>\n",
       "      <th>Peer_Influence_Neutral</th>\n",
       "      <th>Peer_Influence_Positive</th>\n",
       "      <th>Learning_Disabilities_Yes</th>\n",
       "    </tr>\n",
       "  </thead>\n",
       "  <tbody>\n",
       "    <tr>\n",
       "      <th>0</th>\n",
       "      <td>0.348375</td>\n",
       "      <td>0.504942</td>\n",
       "      <td>False</td>\n",
       "      <td>False</td>\n",
       "      <td>True</td>\n",
       "      <td>False</td>\n",
       "      <td>True</td>\n",
       "      <td>False</td>\n",
       "      <td>False</td>\n",
       "      <td>True</td>\n",
       "      <td>False</td>\n",
       "    </tr>\n",
       "    <tr>\n",
       "      <th>1</th>\n",
       "      <td>-1.383736</td>\n",
       "      <td>-0.162822</td>\n",
       "      <td>False</td>\n",
       "      <td>True</td>\n",
       "      <td>True</td>\n",
       "      <td>False</td>\n",
       "      <td>False</td>\n",
       "      <td>False</td>\n",
       "      <td>False</td>\n",
       "      <td>False</td>\n",
       "      <td>False</td>\n",
       "    </tr>\n",
       "    <tr>\n",
       "      <th>2</th>\n",
       "      <td>1.560853</td>\n",
       "      <td>0.671882</td>\n",
       "      <td>False</td>\n",
       "      <td>True</td>\n",
       "      <td>False</td>\n",
       "      <td>True</td>\n",
       "      <td>False</td>\n",
       "      <td>True</td>\n",
       "      <td>True</td>\n",
       "      <td>False</td>\n",
       "      <td>False</td>\n",
       "    </tr>\n",
       "    <tr>\n",
       "      <th>3</th>\n",
       "      <td>0.781403</td>\n",
       "      <td>1.506587</td>\n",
       "      <td>False</td>\n",
       "      <td>True</td>\n",
       "      <td>True</td>\n",
       "      <td>False</td>\n",
       "      <td>True</td>\n",
       "      <td>False</td>\n",
       "      <td>False</td>\n",
       "      <td>False</td>\n",
       "      <td>False</td>\n",
       "    </tr>\n",
       "    <tr>\n",
       "      <th>4</th>\n",
       "      <td>1.041220</td>\n",
       "      <td>-0.162822</td>\n",
       "      <td>False</td>\n",
       "      <td>True</td>\n",
       "      <td>False</td>\n",
       "      <td>True</td>\n",
       "      <td>False</td>\n",
       "      <td>False</td>\n",
       "      <td>True</td>\n",
       "      <td>False</td>\n",
       "      <td>False</td>\n",
       "    </tr>\n",
       "  </tbody>\n",
       "</table>\n",
       "</div>"
      ]
     },
     "execution_count": 15,
     "metadata": {},
     "output_type": "execute_result"
    }
   ],
   "execution_count": 15
  }
 ],
 "metadata": {
  "kernelspec": {
   "display_name": "Python 3 (ipykernel)",
   "language": "python",
   "name": "python3"
  },
  "language_info": {
   "codemirror_mode": {
    "name": "ipython",
    "version": 3
   },
   "file_extension": ".py",
   "mimetype": "text/x-python",
   "name": "python",
   "nbconvert_exporter": "python",
   "pygments_lexer": "ipython3",
   "version": "3.12.3"
  }
 },
 "nbformat": 4,
 "nbformat_minor": 5
}
