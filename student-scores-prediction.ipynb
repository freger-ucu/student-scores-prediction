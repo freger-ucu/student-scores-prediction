{
 "cells": [
  {
   "metadata": {},
   "cell_type": "markdown",
   "source": "#  Student Exam Scores Prediction",
   "id": "5beb5064b40152db"
  },
  {
   "metadata": {},
   "cell_type": "markdown",
   "source": [
    "### Problem statement:\n",
    "\n",
    "With the proliferation of data‐driven methodologies in education, institutions are turning to predictive analytics to support student achievement and optimize resource allocation. Underperforming students face diminished academic and career prospects, and schools incur significant costs addressing remediation and dropout prevention. Early and accurate prediction of exam performance is therefore essential to enable timely, targeted interventions. In this project, we develop a machine learning pipeline that leverages features such as hours studied, attendance rates, and past grades to forecast student exam scores with high precision. Our objective is to provide educators with actionable insights that facilitate personalized support and improve overall educational outcomes."
   ],
   "id": "f10baebcfcab87a9"
  },
  {
   "metadata": {},
   "cell_type": "markdown",
   "source": [
    "#### In this project:\n",
    "\n",
    "1. Exploratory Data Analysis will be performed to figure out features with the most correlation to student exam scores. \n",
    "\n",
    "\n",
    "2. Custom **Linear Regression** (Mini-batch Gradient Descent) and **k-Nearest Neighbors** Regression models will be implemented **from scratch** to predict student performance.\n",
    "\n",
    "\n",
    "3. Models' hyperparameters will be tuned to achieve the ultimate prediction performance. \n",
    "\n",
    "\n",
    "4. Both models will be benchmarked using k-fold cross-validation via mean absolute error (MAE) and R² to determine the top performer."
   ],
   "id": "9d714b0e0c441f0e"
  },
  {
   "metadata": {},
   "cell_type": "markdown",
   "source": "## Setup",
   "id": "ec54b2b371e806eb"
  },
  {
   "metadata": {
    "ExecuteTime": {
     "end_time": "2025-08-06T07:13:01.359424Z",
     "start_time": "2025-08-06T07:13:01.224305Z"
    }
   },
   "cell_type": "code",
   "source": [
    "import numpy as np\n",
    "import pandas as pd\n",
    "import matplotlib.pyplot as plt\n",
    "import sklearn\n",
    "import kagglehub\n",
    "import seaborn as sns\n",
    "import scipy.stats as stats"
   ],
   "id": "f1b94d66be91e1a7",
   "outputs": [],
   "execution_count": 1
  },
  {
   "metadata": {
    "ExecuteTime": {
     "end_time": "2025-08-06T07:13:01.889258Z",
     "start_time": "2025-08-06T07:13:01.360190Z"
    }
   },
   "cell_type": "code",
   "source": [
    "path = kagglehub.dataset_download(\"lainguyn123/student-performance-factors\")\n",
    "\n",
    "df = pd.read_csv(path + '/StudentPerformanceFactors.csv')"
   ],
   "id": "b667fdf32d414df",
   "outputs": [],
   "execution_count": 2
  },
  {
   "metadata": {},
   "cell_type": "markdown",
   "source": "",
   "id": "6d75344321433505"
  },
  {
   "metadata": {},
   "cell_type": "markdown",
   "source": "## EDA",
   "id": "dc3e9c814c5ae6a6"
  },
  {
   "metadata": {
    "ExecuteTime": {
     "end_time": "2025-08-06T07:13:01.906335Z",
     "start_time": "2025-08-06T07:13:01.894870Z"
    }
   },
   "cell_type": "code",
   "source": "df.head()",
   "id": "9a20574d1b3beddd",
   "outputs": [
    {
     "data": {
      "text/plain": [
       "   Hours_Studied  Attendance Parental_Involvement Access_to_Resources  \\\n",
       "0             23          84                  Low                High   \n",
       "1             19          64                  Low              Medium   \n",
       "2             24          98               Medium              Medium   \n",
       "3             29          89                  Low              Medium   \n",
       "4             19          92               Medium              Medium   \n",
       "\n",
       "  Extracurricular_Activities  Sleep_Hours  Previous_Scores Motivation_Level  \\\n",
       "0                         No            7               73              Low   \n",
       "1                         No            8               59              Low   \n",
       "2                        Yes            7               91           Medium   \n",
       "3                        Yes            8               98           Medium   \n",
       "4                        Yes            6               65           Medium   \n",
       "\n",
       "  Internet_Access  Tutoring_Sessions Family_Income Teacher_Quality  \\\n",
       "0             Yes                  0           Low          Medium   \n",
       "1             Yes                  2        Medium          Medium   \n",
       "2             Yes                  2        Medium          Medium   \n",
       "3             Yes                  1        Medium          Medium   \n",
       "4             Yes                  3        Medium            High   \n",
       "\n",
       "  School_Type Peer_Influence  Physical_Activity Learning_Disabilities  \\\n",
       "0      Public       Positive                  3                    No   \n",
       "1      Public       Negative                  4                    No   \n",
       "2      Public        Neutral                  4                    No   \n",
       "3      Public       Negative                  4                    No   \n",
       "4      Public        Neutral                  4                    No   \n",
       "\n",
       "  Parental_Education_Level Distance_from_Home  Gender  Exam_Score  \n",
       "0              High School               Near    Male          67  \n",
       "1                  College           Moderate  Female          61  \n",
       "2             Postgraduate               Near    Male          74  \n",
       "3              High School           Moderate    Male          71  \n",
       "4                  College               Near  Female          70  "
      ],
      "text/html": [
       "<div>\n",
       "<style scoped>\n",
       "    .dataframe tbody tr th:only-of-type {\n",
       "        vertical-align: middle;\n",
       "    }\n",
       "\n",
       "    .dataframe tbody tr th {\n",
       "        vertical-align: top;\n",
       "    }\n",
       "\n",
       "    .dataframe thead th {\n",
       "        text-align: right;\n",
       "    }\n",
       "</style>\n",
       "<table border=\"1\" class=\"dataframe\">\n",
       "  <thead>\n",
       "    <tr style=\"text-align: right;\">\n",
       "      <th></th>\n",
       "      <th>Hours_Studied</th>\n",
       "      <th>Attendance</th>\n",
       "      <th>Parental_Involvement</th>\n",
       "      <th>Access_to_Resources</th>\n",
       "      <th>Extracurricular_Activities</th>\n",
       "      <th>Sleep_Hours</th>\n",
       "      <th>Previous_Scores</th>\n",
       "      <th>Motivation_Level</th>\n",
       "      <th>Internet_Access</th>\n",
       "      <th>Tutoring_Sessions</th>\n",
       "      <th>Family_Income</th>\n",
       "      <th>Teacher_Quality</th>\n",
       "      <th>School_Type</th>\n",
       "      <th>Peer_Influence</th>\n",
       "      <th>Physical_Activity</th>\n",
       "      <th>Learning_Disabilities</th>\n",
       "      <th>Parental_Education_Level</th>\n",
       "      <th>Distance_from_Home</th>\n",
       "      <th>Gender</th>\n",
       "      <th>Exam_Score</th>\n",
       "    </tr>\n",
       "  </thead>\n",
       "  <tbody>\n",
       "    <tr>\n",
       "      <th>0</th>\n",
       "      <td>23</td>\n",
       "      <td>84</td>\n",
       "      <td>Low</td>\n",
       "      <td>High</td>\n",
       "      <td>No</td>\n",
       "      <td>7</td>\n",
       "      <td>73</td>\n",
       "      <td>Low</td>\n",
       "      <td>Yes</td>\n",
       "      <td>0</td>\n",
       "      <td>Low</td>\n",
       "      <td>Medium</td>\n",
       "      <td>Public</td>\n",
       "      <td>Positive</td>\n",
       "      <td>3</td>\n",
       "      <td>No</td>\n",
       "      <td>High School</td>\n",
       "      <td>Near</td>\n",
       "      <td>Male</td>\n",
       "      <td>67</td>\n",
       "    </tr>\n",
       "    <tr>\n",
       "      <th>1</th>\n",
       "      <td>19</td>\n",
       "      <td>64</td>\n",
       "      <td>Low</td>\n",
       "      <td>Medium</td>\n",
       "      <td>No</td>\n",
       "      <td>8</td>\n",
       "      <td>59</td>\n",
       "      <td>Low</td>\n",
       "      <td>Yes</td>\n",
       "      <td>2</td>\n",
       "      <td>Medium</td>\n",
       "      <td>Medium</td>\n",
       "      <td>Public</td>\n",
       "      <td>Negative</td>\n",
       "      <td>4</td>\n",
       "      <td>No</td>\n",
       "      <td>College</td>\n",
       "      <td>Moderate</td>\n",
       "      <td>Female</td>\n",
       "      <td>61</td>\n",
       "    </tr>\n",
       "    <tr>\n",
       "      <th>2</th>\n",
       "      <td>24</td>\n",
       "      <td>98</td>\n",
       "      <td>Medium</td>\n",
       "      <td>Medium</td>\n",
       "      <td>Yes</td>\n",
       "      <td>7</td>\n",
       "      <td>91</td>\n",
       "      <td>Medium</td>\n",
       "      <td>Yes</td>\n",
       "      <td>2</td>\n",
       "      <td>Medium</td>\n",
       "      <td>Medium</td>\n",
       "      <td>Public</td>\n",
       "      <td>Neutral</td>\n",
       "      <td>4</td>\n",
       "      <td>No</td>\n",
       "      <td>Postgraduate</td>\n",
       "      <td>Near</td>\n",
       "      <td>Male</td>\n",
       "      <td>74</td>\n",
       "    </tr>\n",
       "    <tr>\n",
       "      <th>3</th>\n",
       "      <td>29</td>\n",
       "      <td>89</td>\n",
       "      <td>Low</td>\n",
       "      <td>Medium</td>\n",
       "      <td>Yes</td>\n",
       "      <td>8</td>\n",
       "      <td>98</td>\n",
       "      <td>Medium</td>\n",
       "      <td>Yes</td>\n",
       "      <td>1</td>\n",
       "      <td>Medium</td>\n",
       "      <td>Medium</td>\n",
       "      <td>Public</td>\n",
       "      <td>Negative</td>\n",
       "      <td>4</td>\n",
       "      <td>No</td>\n",
       "      <td>High School</td>\n",
       "      <td>Moderate</td>\n",
       "      <td>Male</td>\n",
       "      <td>71</td>\n",
       "    </tr>\n",
       "    <tr>\n",
       "      <th>4</th>\n",
       "      <td>19</td>\n",
       "      <td>92</td>\n",
       "      <td>Medium</td>\n",
       "      <td>Medium</td>\n",
       "      <td>Yes</td>\n",
       "      <td>6</td>\n",
       "      <td>65</td>\n",
       "      <td>Medium</td>\n",
       "      <td>Yes</td>\n",
       "      <td>3</td>\n",
       "      <td>Medium</td>\n",
       "      <td>High</td>\n",
       "      <td>Public</td>\n",
       "      <td>Neutral</td>\n",
       "      <td>4</td>\n",
       "      <td>No</td>\n",
       "      <td>College</td>\n",
       "      <td>Near</td>\n",
       "      <td>Female</td>\n",
       "      <td>70</td>\n",
       "    </tr>\n",
       "  </tbody>\n",
       "</table>\n",
       "</div>"
      ]
     },
     "execution_count": 3,
     "metadata": {},
     "output_type": "execute_result"
    }
   ],
   "execution_count": 3
  },
  {
   "metadata": {},
   "cell_type": "markdown",
   "source": "",
   "id": "59e1623c9eeea125"
  },
  {
   "metadata": {
    "ExecuteTime": {
     "end_time": "2025-08-06T07:13:01.914699Z",
     "start_time": "2025-08-06T07:13:01.908110Z"
    }
   },
   "cell_type": "code",
   "source": [
    "X = df.iloc[:, :-1]\n",
    "X.head()"
   ],
   "id": "8293c1eaa5230dfb",
   "outputs": [
    {
     "data": {
      "text/plain": [
       "   Hours_Studied  Attendance Parental_Involvement Access_to_Resources  \\\n",
       "0             23          84                  Low                High   \n",
       "1             19          64                  Low              Medium   \n",
       "2             24          98               Medium              Medium   \n",
       "3             29          89                  Low              Medium   \n",
       "4             19          92               Medium              Medium   \n",
       "\n",
       "  Extracurricular_Activities  Sleep_Hours  Previous_Scores Motivation_Level  \\\n",
       "0                         No            7               73              Low   \n",
       "1                         No            8               59              Low   \n",
       "2                        Yes            7               91           Medium   \n",
       "3                        Yes            8               98           Medium   \n",
       "4                        Yes            6               65           Medium   \n",
       "\n",
       "  Internet_Access  Tutoring_Sessions Family_Income Teacher_Quality  \\\n",
       "0             Yes                  0           Low          Medium   \n",
       "1             Yes                  2        Medium          Medium   \n",
       "2             Yes                  2        Medium          Medium   \n",
       "3             Yes                  1        Medium          Medium   \n",
       "4             Yes                  3        Medium            High   \n",
       "\n",
       "  School_Type Peer_Influence  Physical_Activity Learning_Disabilities  \\\n",
       "0      Public       Positive                  3                    No   \n",
       "1      Public       Negative                  4                    No   \n",
       "2      Public        Neutral                  4                    No   \n",
       "3      Public       Negative                  4                    No   \n",
       "4      Public        Neutral                  4                    No   \n",
       "\n",
       "  Parental_Education_Level Distance_from_Home  Gender  \n",
       "0              High School               Near    Male  \n",
       "1                  College           Moderate  Female  \n",
       "2             Postgraduate               Near    Male  \n",
       "3              High School           Moderate    Male  \n",
       "4                  College               Near  Female  "
      ],
      "text/html": [
       "<div>\n",
       "<style scoped>\n",
       "    .dataframe tbody tr th:only-of-type {\n",
       "        vertical-align: middle;\n",
       "    }\n",
       "\n",
       "    .dataframe tbody tr th {\n",
       "        vertical-align: top;\n",
       "    }\n",
       "\n",
       "    .dataframe thead th {\n",
       "        text-align: right;\n",
       "    }\n",
       "</style>\n",
       "<table border=\"1\" class=\"dataframe\">\n",
       "  <thead>\n",
       "    <tr style=\"text-align: right;\">\n",
       "      <th></th>\n",
       "      <th>Hours_Studied</th>\n",
       "      <th>Attendance</th>\n",
       "      <th>Parental_Involvement</th>\n",
       "      <th>Access_to_Resources</th>\n",
       "      <th>Extracurricular_Activities</th>\n",
       "      <th>Sleep_Hours</th>\n",
       "      <th>Previous_Scores</th>\n",
       "      <th>Motivation_Level</th>\n",
       "      <th>Internet_Access</th>\n",
       "      <th>Tutoring_Sessions</th>\n",
       "      <th>Family_Income</th>\n",
       "      <th>Teacher_Quality</th>\n",
       "      <th>School_Type</th>\n",
       "      <th>Peer_Influence</th>\n",
       "      <th>Physical_Activity</th>\n",
       "      <th>Learning_Disabilities</th>\n",
       "      <th>Parental_Education_Level</th>\n",
       "      <th>Distance_from_Home</th>\n",
       "      <th>Gender</th>\n",
       "    </tr>\n",
       "  </thead>\n",
       "  <tbody>\n",
       "    <tr>\n",
       "      <th>0</th>\n",
       "      <td>23</td>\n",
       "      <td>84</td>\n",
       "      <td>Low</td>\n",
       "      <td>High</td>\n",
       "      <td>No</td>\n",
       "      <td>7</td>\n",
       "      <td>73</td>\n",
       "      <td>Low</td>\n",
       "      <td>Yes</td>\n",
       "      <td>0</td>\n",
       "      <td>Low</td>\n",
       "      <td>Medium</td>\n",
       "      <td>Public</td>\n",
       "      <td>Positive</td>\n",
       "      <td>3</td>\n",
       "      <td>No</td>\n",
       "      <td>High School</td>\n",
       "      <td>Near</td>\n",
       "      <td>Male</td>\n",
       "    </tr>\n",
       "    <tr>\n",
       "      <th>1</th>\n",
       "      <td>19</td>\n",
       "      <td>64</td>\n",
       "      <td>Low</td>\n",
       "      <td>Medium</td>\n",
       "      <td>No</td>\n",
       "      <td>8</td>\n",
       "      <td>59</td>\n",
       "      <td>Low</td>\n",
       "      <td>Yes</td>\n",
       "      <td>2</td>\n",
       "      <td>Medium</td>\n",
       "      <td>Medium</td>\n",
       "      <td>Public</td>\n",
       "      <td>Negative</td>\n",
       "      <td>4</td>\n",
       "      <td>No</td>\n",
       "      <td>College</td>\n",
       "      <td>Moderate</td>\n",
       "      <td>Female</td>\n",
       "    </tr>\n",
       "    <tr>\n",
       "      <th>2</th>\n",
       "      <td>24</td>\n",
       "      <td>98</td>\n",
       "      <td>Medium</td>\n",
       "      <td>Medium</td>\n",
       "      <td>Yes</td>\n",
       "      <td>7</td>\n",
       "      <td>91</td>\n",
       "      <td>Medium</td>\n",
       "      <td>Yes</td>\n",
       "      <td>2</td>\n",
       "      <td>Medium</td>\n",
       "      <td>Medium</td>\n",
       "      <td>Public</td>\n",
       "      <td>Neutral</td>\n",
       "      <td>4</td>\n",
       "      <td>No</td>\n",
       "      <td>Postgraduate</td>\n",
       "      <td>Near</td>\n",
       "      <td>Male</td>\n",
       "    </tr>\n",
       "    <tr>\n",
       "      <th>3</th>\n",
       "      <td>29</td>\n",
       "      <td>89</td>\n",
       "      <td>Low</td>\n",
       "      <td>Medium</td>\n",
       "      <td>Yes</td>\n",
       "      <td>8</td>\n",
       "      <td>98</td>\n",
       "      <td>Medium</td>\n",
       "      <td>Yes</td>\n",
       "      <td>1</td>\n",
       "      <td>Medium</td>\n",
       "      <td>Medium</td>\n",
       "      <td>Public</td>\n",
       "      <td>Negative</td>\n",
       "      <td>4</td>\n",
       "      <td>No</td>\n",
       "      <td>High School</td>\n",
       "      <td>Moderate</td>\n",
       "      <td>Male</td>\n",
       "    </tr>\n",
       "    <tr>\n",
       "      <th>4</th>\n",
       "      <td>19</td>\n",
       "      <td>92</td>\n",
       "      <td>Medium</td>\n",
       "      <td>Medium</td>\n",
       "      <td>Yes</td>\n",
       "      <td>6</td>\n",
       "      <td>65</td>\n",
       "      <td>Medium</td>\n",
       "      <td>Yes</td>\n",
       "      <td>3</td>\n",
       "      <td>Medium</td>\n",
       "      <td>High</td>\n",
       "      <td>Public</td>\n",
       "      <td>Neutral</td>\n",
       "      <td>4</td>\n",
       "      <td>No</td>\n",
       "      <td>College</td>\n",
       "      <td>Near</td>\n",
       "      <td>Female</td>\n",
       "    </tr>\n",
       "  </tbody>\n",
       "</table>\n",
       "</div>"
      ]
     },
     "execution_count": 4,
     "metadata": {},
     "output_type": "execute_result"
    }
   ],
   "execution_count": 4
  },
  {
   "metadata": {},
   "cell_type": "markdown",
   "source": [
    "As we can see, there's plenty of features. We'll do some correlation tests to reduce dimensionality for better performance later.\n",
    "\n",
    "But before that, let's take a look whether the exam scores are evenly distributed."
   ],
   "id": "bddd49e0c6afa2c8"
  },
  {
   "metadata": {},
   "cell_type": "markdown",
   "source": "### Target variable distribution",
   "id": "ef7690fcfea0e18e"
  },
  {
   "metadata": {
    "ExecuteTime": {
     "end_time": "2025-08-06T07:13:02.238227Z",
     "start_time": "2025-08-06T07:13:01.916500Z"
    }
   },
   "cell_type": "code",
   "source": [
    "Y = df['Exam_Score']\n",
    "\n",
    "print(Y.describe())\n",
    "\n",
    "plt.figure(figsize=(8, 5))\n",
    "sns.histplot(Y, kde=True, bins=40)\n",
    "plt.title('Distribution of Exam Scores')\n",
    "plt.xlabel('Exam Score')\n",
    "plt.ylabel('Count')\n",
    "plt.show()\n",
    "\n",
    "plt.figure(figsize=(6, 6))\n",
    "stats.probplot(Y, dist='norm', plot=plt)\n",
    "plt.title('Q-Q Plot of Exam Scores')\n",
    "plt.show()"
   ],
   "id": "c4af003b94d95224",
   "outputs": [
    {
     "name": "stdout",
     "output_type": "stream",
     "text": [
      "count    6607.000000\n",
      "mean       67.235659\n",
      "std         3.890456\n",
      "min        55.000000\n",
      "25%        65.000000\n",
      "50%        67.000000\n",
      "75%        69.000000\n",
      "max       101.000000\n",
      "Name: Exam_Score, dtype: float64\n"
     ]
    },
    {
     "data": {
      "text/plain": [
       "<Figure size 800x500 with 1 Axes>"
      ],
      "image/png": "[encoded data removed]"
     },
     "metadata": {},
     "output_type": "display_data"
    },
    {
     "data": {
      "text/plain": [
       "<Figure size 600x600 with 1 Axes>"
      ],
      "image/png": "[encoded data removed]"
     },
     "metadata": {},
     "output_type": "display_data"
    }
   ],
   "execution_count": 5
  },
  {
   "metadata": {},
   "cell_type": "markdown",
   "source": [
    "#### As we can see:\n",
    "1. The data pretty much follows the normal distribution in the middle-range (say from the 20th to 80th percentile), however there are some outliers in the lower end, and much more on the higher end.\n",
    "2. Exam scores range between 55 and 101 points. Most likely, the 101 is an error, so I will ceil those values to 100 next.\n",
    "3. Majority of students fall in the 60-75 range. \n",
    "4. Students with scores lower than 60 could be considered underperformers, and might be of interest to their teachers for early exam fail prevention."
   ],
   "id": "3d96068b5569c973"
  },
  {
   "metadata": {
    "ExecuteTime": {
     "end_time": "2025-08-06T07:13:02.247654Z",
     "start_time": "2025-08-06T07:13:02.240258Z"
    }
   },
   "cell_type": "code",
   "source": [
    "df.loc[df['Exam_Score'] > 100, 'Exam_Score'] = 100\n",
    "\n",
    "print(Y.describe())"
   ],
   "id": "621835a01ac6702f",
   "outputs": [
    {
     "name": "stdout",
     "output_type": "stream",
     "text": [
      "count    6607.000000\n",
      "mean       67.235508\n",
      "std         3.889161\n",
      "min        55.000000\n",
      "25%        65.000000\n",
      "50%        67.000000\n",
      "75%        69.000000\n",
      "max       100.000000\n",
      "Name: Exam_Score, dtype: float64\n"
     ]
    }
   ],
   "execution_count": 6
  },
  {
   "metadata": {},
   "cell_type": "markdown",
   "source": "## Data Quality & Completeness",
   "id": "aaa40fefac1dd8b7"
  },
  {
   "metadata": {
    "ExecuteTime": {
     "end_time": "2025-08-06T07:13:02.263980Z",
     "start_time": "2025-08-06T07:13:02.248727Z"
    }
   },
   "cell_type": "code",
   "source": [
    "# Checking for null values :D\n",
    "\n",
    "missing_cnt   = df.isna().sum()\n",
    "missing_pct   = (df.isna().mean() * 100).round(2)\n",
    "missing_table = pd.concat([missing_cnt, missing_pct], axis=1, keys=['missing_count','percent_missing'])\n",
    "print(missing_table)"
   ],
   "id": "1c122c2032ef294",
   "outputs": [
    {
     "name": "stdout",
     "output_type": "stream",
     "text": [
      "                            missing_count  percent_missing\n",
      "Hours_Studied                           0             0.00\n",
      "Attendance                              0             0.00\n",
      "Parental_Involvement                    0             0.00\n",
      "Access_to_Resources                     0             0.00\n",
      "Extracurricular_Activities              0             0.00\n",
      "Sleep_Hours                             0             0.00\n",
      "Previous_Scores                         0             0.00\n",
      "Motivation_Level                        0             0.00\n",
      "Internet_Access                         0             0.00\n",
      "Tutoring_Sessions                       0             0.00\n",
      "Family_Income                           0             0.00\n",
      "Teacher_Quality                        78             1.18\n",
      "School_Type                             0             0.00\n",
      "Peer_Influence                          0             0.00\n",
      "Physical_Activity                       0             0.00\n",
      "Learning_Disabilities                   0             0.00\n",
      "Parental_Education_Level               90             1.36\n",
      "Distance_from_Home                     67             1.01\n",
      "Gender                                  0             0.00\n",
      "Exam_Score                              0             0.00\n"
     ]
    }
   ],
   "execution_count": 7
  },
  {
   "metadata": {},
   "cell_type": "markdown",
   "source": [
    "Teacher_Quality, Parental_Education_Level and Distance_from_Home can be null from time to time\n",
    "\n",
    "As the number of missing values isn't significant, we can fill them using .fillna, that won't have a huge effect on our results.  \n",
    "\n",
    "All the missing values are categorical, so we'll use the mode here."
   ],
   "id": "f1d23488d4cbc069"
  },
  {
   "metadata": {
    "ExecuteTime": {
     "end_time": "2025-08-06T07:13:02.275150Z",
     "start_time": "2025-08-06T07:13:02.265585Z"
    }
   },
   "cell_type": "code",
   "source": [
    "# Filling null values\n",
    "\n",
    "null_cols = ['Teacher_Quality', 'Parental_Education_Level', 'Distance_from_Home']\n",
    "\n",
    "for col in null_cols:\n",
    "    mode_val = df[col].mode()[0]\n",
    "    df[col] = df[col].fillna(mode_val)\n",
    "\n",
    "print(df[null_cols].isna().sum())"
   ],
   "id": "4d400719551f24de",
   "outputs": [
    {
     "name": "stdout",
     "output_type": "stream",
     "text": [
      "Teacher_Quality             0\n",
      "Parental_Education_Level    0\n",
      "Distance_from_Home          0\n",
      "dtype: int64\n"
     ]
    }
   ],
   "execution_count": 8
  },
  {
   "metadata": {
    "ExecuteTime": {
     "end_time": "2025-08-06T07:13:02.286596Z",
     "start_time": "2025-08-06T07:13:02.277438Z"
    }
   },
   "cell_type": "code",
   "source": [
    "# Checking for duplicates :)\n",
    "\n",
    "dupe_count = df.duplicated().sum()\n",
    "print(f\"Number of exact duplicate rows: {dupe_count}\")"
   ],
   "id": "e032373c6233c9ca",
   "outputs": [
    {
     "name": "stdout",
     "output_type": "stream",
     "text": [
      "Number of exact duplicate rows: 0\n"
     ]
    }
   ],
   "execution_count": 9
  },
  {
   "metadata": {},
   "cell_type": "markdown",
   "source": "No duplicates, the data looks pretty good now",
   "id": "13d2d59b7cbe4083"
  },
  {
   "metadata": {},
   "cell_type": "markdown",
   "source": [
    "## Feature selection\n",
    "\n",
    "As we have both numeric and categorical features, we will have to test them separately. "
   ],
   "id": "e278766d09b2a74c"
  },
  {
   "metadata": {},
   "cell_type": "markdown",
   "source": [
    "#### Numeric features\n",
    "We'll perform pearson's r (Linear Correlation) and Spearman’s ρ (Rank Correlation) tests here."
   ],
   "id": "8a933760e24c37dc"
  },
  {
   "metadata": {
    "ExecuteTime": {
     "end_time": "2025-08-06T07:13:02.296189Z",
     "start_time": "2025-08-06T07:13:02.288197Z"
    }
   },
   "cell_type": "code",
   "source": [
    "num_cols = df.select_dtypes(include=[np.number]).columns.tolist()\n",
    "num_cols.remove('Exam_Score')\n",
    "\n",
    "pearson_corr = df[num_cols + ['Exam_Score']].corr(method='pearson')['Exam_Score'] \\\n",
    "                  .drop('Exam_Score') \\\n",
    "                  .abs() \\\n",
    "                  .sort_values(ascending=False)\n",
    "print(\"Top Pearson correlations with Exam_Score:\\n\", pearson_corr.head(10))\n"
   ],
   "id": "6b4bce6403f0a041",
   "outputs": [
    {
     "name": "stdout",
     "output_type": "stream",
     "text": [
      "Top Pearson correlations with Exam_Score:\n",
      " Attendance           0.581205\n",
      "Hours_Studied        0.445558\n",
      "Previous_Scores      0.175089\n",
      "Tutoring_Sessions    0.156466\n",
      "Physical_Activity    0.027832\n",
      "Sleep_Hours          0.017000\n",
      "Name: Exam_Score, dtype: float64\n"
     ]
    }
   ],
   "execution_count": 10
  },
  {
   "metadata": {
    "ExecuteTime": {
     "end_time": "2025-08-06T07:13:02.308531Z",
     "start_time": "2025-08-06T07:13:02.298313Z"
    }
   },
   "cell_type": "code",
   "source": [
    "spearman_corr = df[num_cols + ['Exam_Score']].corr(method='spearman')['Exam_Score'] \\\n",
    "                    .drop('Exam_Score') \\\n",
    "                    .abs() \\\n",
    "                    .sort_values(ascending=False)\n",
    "print(\"\\nTop Spearman correlations with Exam_Score:\\n\", spearman_corr.head(10))"
   ],
   "id": "50c013dc983be5b6",
   "outputs": [
    {
     "name": "stdout",
     "output_type": "stream",
     "text": [
      "\n",
      "Top Spearman correlations with Exam_Score:\n",
      " Attendance           0.672366\n",
      "Hours_Studied        0.480956\n",
      "Previous_Scores      0.191941\n",
      "Tutoring_Sessions    0.163940\n",
      "Physical_Activity    0.029150\n",
      "Sleep_Hours          0.007629\n",
      "Name: Exam_Score, dtype: float64\n"
     ]
    }
   ],
   "execution_count": 11
  },
  {
   "metadata": {},
   "cell_type": "markdown",
   "source": [
    "Attendance and Hours studied have huge correlation with exam scores on both tests, so we'll definitely keep those. \n",
    "\n",
    "The other features don't seem significant enough."
   ],
   "id": "c3003c1b635866c3"
  },
  {
   "metadata": {},
   "cell_type": "markdown",
   "source": [
    "#### Categorical features\n",
    "\n",
    "We'll perform an ANOVA F test to pick the most significant features\n",
    "\n",
    "The features will be \"One-hot encoded\", which means a feature with K categories will be transformed into K boolean features\n",
    "\n",
    "\n",
    "\n",
    "e.g. before:\n",
    "\n",
    "* Access_to_Resources -> Low/Medium/High\n",
    "\n",
    "after:\n",
    "\n",
    "* Access_to_Resources_Low -> True/False\n",
    "\n",
    "* Access_to_Resources_Medium -> True/False\n",
    "\n",
    "* Access_to_Resources_High -> True/False\n",
    "\n",
    "\n",
    "P.S. I explicitly didn't drop any columns in the encoding here to check for significance among all feature values\n"
   ],
   "id": "87502b97598e78aa"
  },
  {
   "metadata": {
    "ExecuteTime": {
     "end_time": "2025-08-06T07:13:02.690531Z",
     "start_time": "2025-08-06T07:13:02.314123Z"
    }
   },
   "cell_type": "code",
   "source": [
    "from sklearn.feature_selection import SelectKBest, f_regression\n",
    "from sklearn.preprocessing    import OneHotEncoder\n",
    "from sklearn.compose          import ColumnTransformer\n",
    "\n",
    "cat_cols = df.select_dtypes(include=['object','category']).columns.tolist()\n",
    "\n",
    "pre = ColumnTransformer([\n",
    "    ('ohe', OneHotEncoder(drop=None), cat_cols)\n",
    "], remainder='drop')\n",
    "\n",
    "X_cat_ohe = pd.DataFrame(\n",
    "    pre.fit_transform(df),\n",
    "    columns=pre.get_feature_names_out()\n",
    ")\n",
    "\n",
    "selector = SelectKBest(f_regression, k=14)\n",
    "selector.fit(X_cat_ohe, df['Exam_Score'])\n",
    "\n",
    "f_scores = pd.Series(selector.scores_, index=X_cat_ohe.columns)\n",
    "print(\"Top categorical features by F-score:\\n\", f_scores.sort_values(ascending=False).head(14))"
   ],
   "id": "14580fc7eda69dd6",
   "outputs": [
    {
     "name": "stdout",
     "output_type": "stream",
     "text": [
      "Top categorical features by F-score:\n",
      " ohe__Access_to_Resources_High                 139.542252\n",
      "ohe__Parental_Involvement_High                132.947133\n",
      "ohe__Access_to_Resources_Low                  117.450124\n",
      "ohe__Parental_Involvement_Low                  86.532715\n",
      "ohe__Parental_Education_Level_Postgraduate     58.647910\n",
      "ohe__Peer_Influence_Negative                   52.219362\n",
      "ohe__Parental_Education_Level_High School      50.516698\n",
      "ohe__Learning_Disabilities_No                  48.160459\n",
      "ohe__Learning_Disabilities_Yes                 48.160459\n",
      "ohe__Family_Income_Low                         44.735325\n",
      "ohe__Peer_Influence_Positive                   43.834508\n",
      "ohe__Distance_from_Home_Near                   43.629910\n",
      "ohe__Motivation_Level_Low                      42.679778\n",
      "ohe__Family_Income_High                        38.363049\n",
      "dtype: float64\n"
     ]
    }
   ],
   "execution_count": 12
  },
  {
   "metadata": {},
   "cell_type": "markdown",
   "source": [
    "Woah! That's a lot of correlation here. My features of choice here are:\n",
    "* Access_to_Resources\n",
    "* Parental_Involvement\n",
    "* Parental_Education_Level \n",
    "* Peer_Influence\n",
    "* Learning_Disabilities\n",
    "\n",
    "Now the confusing part. We will have to keep k-1 columns for each feature, where k is feature's categories count. K-1 cause that one category can be identified as \"neither\". e.g. When all other categories are 0 "
   ],
   "id": "19f18a69177e4bdd"
  },
  {
   "metadata": {
    "ExecuteTime": {
     "end_time": "2025-08-06T07:13:02.705504Z",
     "start_time": "2025-08-06T07:13:02.691871Z"
    }
   },
   "cell_type": "code",
   "source": [
    "cat_cols = [\n",
    "    'Access_to_Resources',\n",
    "    'Parental_Involvement',\n",
    "    'Parental_Education_Level',\n",
    "    'Peer_Influence',\n",
    "    'Learning_Disabilities'\n",
    "]\n",
    "num_cols = ['Attendance', 'Hours_Studied']\n",
    "\n",
    "# One-hot encode with drop_first=True to get k–1 cols\n",
    "df_encoded = pd.get_dummies(\n",
    "    df,\n",
    "    columns=cat_cols,\n",
    "    drop_first=True\n",
    ")\n",
    "\n",
    "dummy_cols = [\n",
    "    col for col in df_encoded.columns \n",
    "    if any(col.startswith(f\"{cat}_\") for cat in cat_cols)\n",
    "]\n",
    "\n",
    "feature_cols = num_cols + dummy_cols\n",
    "print(\"Features to use:\\n\", feature_cols)\n",
    "\n",
    "X = df_encoded[feature_cols]\n",
    "y = df_encoded['Exam_Score']\n",
    "\n",
    "\n",
    "X.head()"
   ],
   "id": "46273d1e6ba0d4a",
   "outputs": [
    {
     "name": "stdout",
     "output_type": "stream",
     "text": [
      "Features to use:\n",
      " ['Attendance', 'Hours_Studied', 'Access_to_Resources_Low', 'Access_to_Resources_Medium', 'Parental_Involvement_Low', 'Parental_Involvement_Medium', 'Parental_Education_Level_High School', 'Parental_Education_Level_Postgraduate', 'Peer_Influence_Neutral', 'Peer_Influence_Positive', 'Learning_Disabilities_Yes']\n"
     ]
    },
    {
     "data": {
      "text/plain": [
       "   Attendance  Hours_Studied  Access_to_Resources_Low  \\\n",
       "0          84             23                    False   \n",
       "1          64             19                    False   \n",
       "2          98             24                    False   \n",
       "3          89             29                    False   \n",
       "4          92             19                    False   \n",
       "\n",
       "   Access_to_Resources_Medium  Parental_Involvement_Low  \\\n",
       "0                       False                      True   \n",
       "1                        True                      True   \n",
       "2                        True                     False   \n",
       "3                        True                      True   \n",
       "4                        True                     False   \n",
       "\n",
       "   Parental_Involvement_Medium  Parental_Education_Level_High School  \\\n",
       "0                        False                                  True   \n",
       "1                        False                                 False   \n",
       "2                         True                                 False   \n",
       "3                        False                                  True   \n",
       "4                         True                                 False   \n",
       "\n",
       "   Parental_Education_Level_Postgraduate  Peer_Influence_Neutral  \\\n",
       "0                                  False                   False   \n",
       "1                                  False                   False   \n",
       "2                                   True                    True   \n",
       "3                                  False                   False   \n",
       "4                                  False                    True   \n",
       "\n",
       "   Peer_Influence_Positive  Learning_Disabilities_Yes  \n",
       "0                     True                      False  \n",
       "1                    False                      False  \n",
       "2                    False                      False  \n",
       "3                    False                      False  \n",
       "4                    False                      False  "
      ],
      "text/html": [
       "<div>\n",
       "<style scoped>\n",
       "    .dataframe tbody tr th:only-of-type {\n",
       "        vertical-align: middle;\n",
       "    }\n",
       "\n",
       "    .dataframe tbody tr th {\n",
       "        vertical-align: top;\n",
       "    }\n",
       "\n",
       "    .dataframe thead th {\n",
       "        text-align: right;\n",
       "    }\n",
       "</style>\n",
       "<table border=\"1\" class=\"dataframe\">\n",
       "  <thead>\n",
       "    <tr style=\"text-align: right;\">\n",
       "      <th></th>\n",
       "      <th>Attendance</th>\n",
       "      <th>Hours_Studied</th>\n",
       "      <th>Access_to_Resources_Low</th>\n",
       "      <th>Access_to_Resources_Medium</th>\n",
       "      <th>Parental_Involvement_Low</th>\n",
       "      <th>Parental_Involvement_Medium</th>\n",
       "      <th>Parental_Education_Level_High School</th>\n",
       "      <th>Parental_Education_Level_Postgraduate</th>\n",
       "      <th>Peer_Influence_Neutral</th>\n",
       "      <th>Peer_Influence_Positive</th>\n",
       "      <th>Learning_Disabilities_Yes</th>\n",
       "    </tr>\n",
       "  </thead>\n",
       "  <tbody>\n",
       "    <tr>\n",
       "      <th>0</th>\n",
       "      <td>84</td>\n",
       "      <td>23</td>\n",
       "      <td>False</td>\n",
       "      <td>False</td>\n",
       "      <td>True</td>\n",
       "      <td>False</td>\n",
       "      <td>True</td>\n",
       "      <td>False</td>\n",
       "      <td>False</td>\n",
       "      <td>True</td>\n",
       "      <td>False</td>\n",
       "    </tr>\n",
       "    <tr>\n",
       "      <th>1</th>\n",
       "      <td>64</td>\n",
       "      <td>19</td>\n",
       "      <td>False</td>\n",
       "      <td>True</td>\n",
       "      <td>True</td>\n",
       "      <td>False</td>\n",
       "      <td>False</td>\n",
       "      <td>False</td>\n",
       "      <td>False</td>\n",
       "      <td>False</td>\n",
       "      <td>False</td>\n",
       "    </tr>\n",
       "    <tr>\n",
       "      <th>2</th>\n",
       "      <td>98</td>\n",
       "      <td>24</td>\n",
       "      <td>False</td>\n",
       "      <td>True</td>\n",
       "      <td>False</td>\n",
       "      <td>True</td>\n",
       "      <td>False</td>\n",
       "      <td>True</td>\n",
       "      <td>True</td>\n",
       "      <td>False</td>\n",
       "      <td>False</td>\n",
       "    </tr>\n",
       "    <tr>\n",
       "      <th>3</th>\n",
       "      <td>89</td>\n",
       "      <td>29</td>\n",
       "      <td>False</td>\n",
       "      <td>True</td>\n",
       "      <td>True</td>\n",
       "      <td>False</td>\n",
       "      <td>True</td>\n",
       "      <td>False</td>\n",
       "      <td>False</td>\n",
       "      <td>False</td>\n",
       "      <td>False</td>\n",
       "    </tr>\n",
       "    <tr>\n",
       "      <th>4</th>\n",
       "      <td>92</td>\n",
       "      <td>19</td>\n",
       "      <td>False</td>\n",
       "      <td>True</td>\n",
       "      <td>False</td>\n",
       "      <td>True</td>\n",
       "      <td>False</td>\n",
       "      <td>False</td>\n",
       "      <td>True</td>\n",
       "      <td>False</td>\n",
       "      <td>False</td>\n",
       "    </tr>\n",
       "  </tbody>\n",
       "</table>\n",
       "</div>"
      ]
     },
     "execution_count": 13,
     "metadata": {},
     "output_type": "execute_result"
    }
   ],
   "execution_count": 13
  },
  {
   "metadata": {
    "ExecuteTime": {
     "end_time": "2025-08-06T07:13:02.709087Z",
     "start_time": "2025-08-06T07:13:02.706291Z"
    }
   },
   "cell_type": "code",
   "source": "y.head()",
   "id": "fdb240b91675b303",
   "outputs": [
    {
     "data": {
      "text/plain": [
       "0    67\n",
       "1    61\n",
       "2    74\n",
       "3    71\n",
       "4    70\n",
       "Name: Exam_Score, dtype: int64"
      ]
     },
     "execution_count": 14,
     "metadata": {},
     "output_type": "execute_result"
    }
   ],
   "execution_count": 14
  },
  {
   "metadata": {},
   "cell_type": "markdown",
   "source": [
    "#### Feature scaling\n",
    "\n",
    "\n",
    "We have 11 features, which is quite a lot. Hopefully our algorithms will be able to handle that :)\n",
    "    \n",
    "To help them a little, lets scale the numeric features."
   ],
   "id": "f86fd2f5f79b007c"
  },
  {
   "metadata": {
    "ExecuteTime": {
     "end_time": "2025-08-06T07:13:02.721271Z",
     "start_time": "2025-08-06T07:13:02.710460Z"
    }
   },
   "cell_type": "code",
   "source": [
    "num_cols = ['Attendance', 'Hours_Studied']\n",
    "\n",
    "scaler = sklearn.preprocessing.StandardScaler()\n",
    "scaler.fit(X[num_cols])\n",
    "\n",
    "X_std = X.copy()\n",
    "\n",
    "X_std[num_cols] = scaler.transform(X[num_cols])\n",
    "\n",
    "print(X_std[num_cols].describe().loc[['mean','std']])\n",
    "X_std.head()"
   ],
   "id": "afe546a682b8ec93",
   "outputs": [
    {
     "name": "stdout",
     "output_type": "stream",
     "text": [
      "        Attendance  Hours_Studied\n",
      "mean -3.089199e-16  -1.161474e-16\n",
      "std   1.000076e+00   1.000076e+00\n"
     ]
    },
    {
     "data": {
      "text/plain": [
       "   Attendance  Hours_Studied  Access_to_Resources_Low  \\\n",
       "0    0.348375       0.504942                    False   \n",
       "1   -1.383736      -0.162822                    False   \n",
       "2    1.560853       0.671882                    False   \n",
       "3    0.781403       1.506587                    False   \n",
       "4    1.041220      -0.162822                    False   \n",
       "\n",
       "   Access_to_Resources_Medium  Parental_Involvement_Low  \\\n",
       "0                       False                      True   \n",
       "1                        True                      True   \n",
       "2                        True                     False   \n",
       "3                        True                      True   \n",
       "4                        True                     False   \n",
       "\n",
       "   Parental_Involvement_Medium  Parental_Education_Level_High School  \\\n",
       "0                        False                                  True   \n",
       "1                        False                                 False   \n",
       "2                         True                                 False   \n",
       "3                        False                                  True   \n",
       "4                         True                                 False   \n",
       "\n",
       "   Parental_Education_Level_Postgraduate  Peer_Influence_Neutral  \\\n",
       "0                                  False                   False   \n",
       "1                                  False                   False   \n",
       "2                                   True                    True   \n",
       "3                                  False                   False   \n",
       "4                                  False                    True   \n",
       "\n",
       "   Peer_Influence_Positive  Learning_Disabilities_Yes  \n",
       "0                     True                      False  \n",
       "1                    False                      False  \n",
       "2                    False                      False  \n",
       "3                    False                      False  \n",
       "4                    False                      False  "
      ],
      "text/html": [
       "<div>\n",
       "<style scoped>\n",
       "    .dataframe tbody tr th:only-of-type {\n",
       "        vertical-align: middle;\n",
       "    }\n",
       "\n",
       "    .dataframe tbody tr th {\n",
       "        vertical-align: top;\n",
       "    }\n",
       "\n",
       "    .dataframe thead th {\n",
       "        text-align: right;\n",
       "    }\n",
       "</style>\n",
       "<table border=\"1\" class=\"dataframe\">\n",
       "  <thead>\n",
       "    <tr style=\"text-align: right;\">\n",
       "      <th></th>\n",
       "      <th>Attendance</th>\n",
       "      <th>Hours_Studied</th>\n",
       "      <th>Access_to_Resources_Low</th>\n",
       "      <th>Access_to_Resources_Medium</th>\n",
       "      <th>Parental_Involvement_Low</th>\n",
       "      <th>Parental_Involvement_Medium</th>\n",
       "      <th>Parental_Education_Level_High School</th>\n",
       "      <th>Parental_Education_Level_Postgraduate</th>\n",
       "      <th>Peer_Influence_Neutral</th>\n",
       "      <th>Peer_Influence_Positive</th>\n",
       "      <th>Learning_Disabilities_Yes</th>\n",
       "    </tr>\n",
       "  </thead>\n",
       "  <tbody>\n",
       "    <tr>\n",
       "      <th>0</th>\n",
       "      <td>0.348375</td>\n",
       "      <td>0.504942</td>\n",
       "      <td>False</td>\n",
       "      <td>False</td>\n",
       "      <td>True</td>\n",
       "      <td>False</td>\n",
       "      <td>True</td>\n",
       "      <td>False</td>\n",
       "      <td>False</td>\n",
       "      <td>True</td>\n",
       "      <td>False</td>\n",
       "    </tr>\n",
       "    <tr>\n",
       "      <th>1</th>\n",
       "      <td>-1.383736</td>\n",
       "      <td>-0.162822</td>\n",
       "      <td>False</td>\n",
       "      <td>True</td>\n",
       "      <td>True</td>\n",
       "      <td>False</td>\n",
       "      <td>False</td>\n",
       "      <td>False</td>\n",
       "      <td>False</td>\n",
       "      <td>False</td>\n",
       "      <td>False</td>\n",
       "    </tr>\n",
       "    <tr>\n",
       "      <th>2</th>\n",
       "      <td>1.560853</td>\n",
       "      <td>0.671882</td>\n",
       "      <td>False</td>\n",
       "      <td>True</td>\n",
       "      <td>False</td>\n",
       "      <td>True</td>\n",
       "      <td>False</td>\n",
       "      <td>True</td>\n",
       "      <td>True</td>\n",
       "      <td>False</td>\n",
       "      <td>False</td>\n",
       "    </tr>\n",
       "    <tr>\n",
       "      <th>3</th>\n",
       "      <td>0.781403</td>\n",
       "      <td>1.506587</td>\n",
       "      <td>False</td>\n",
       "      <td>True</td>\n",
       "      <td>True</td>\n",
       "      <td>False</td>\n",
       "      <td>True</td>\n",
       "      <td>False</td>\n",
       "      <td>False</td>\n",
       "      <td>False</td>\n",
       "      <td>False</td>\n",
       "    </tr>\n",
       "    <tr>\n",
       "      <th>4</th>\n",
       "      <td>1.041220</td>\n",
       "      <td>-0.162822</td>\n",
       "      <td>False</td>\n",
       "      <td>True</td>\n",
       "      <td>False</td>\n",
       "      <td>True</td>\n",
       "      <td>False</td>\n",
       "      <td>False</td>\n",
       "      <td>True</td>\n",
       "      <td>False</td>\n",
       "      <td>False</td>\n",
       "    </tr>\n",
       "  </tbody>\n",
       "</table>\n",
       "</div>"
      ]
     },
     "execution_count": 15,
     "metadata": {},
     "output_type": "execute_result"
    }
   ],
   "execution_count": 15
  },
  {
   "metadata": {},
   "cell_type": "markdown",
   "source": [
    "## Linear regression using Mini-batch Gradient Descent\n",
    "\n",
    "With this number of features the Full-batch gradient descent would be slow, so I'll implement the mini-batch one"
   ],
   "id": "948c38346f87988c"
  },
  {
   "metadata": {
    "ExecuteTime": {
     "end_time": "2025-08-06T07:13:02.726246Z",
     "start_time": "2025-08-06T07:13:02.722124Z"
    }
   },
   "cell_type": "code",
   "source": [
    "class LinearRegression:\n",
    "    \"\"\"\n",
    "    Linear regression using mini-batch gradient descent.\n",
    "    \"\"\"\n",
    "    \n",
    "    def __init__(self, learning_rate=0.00005, epochs=100, batch_size=32, debug=False, print_every=100):\n",
    "        \"\"\"\n",
    "        Initialize a model\n",
    "        :param X: pd.DataFrame of training features (no intercept column)\n",
    "        :param Y: pd.Series or array of training targets\n",
    "        :param learning_rate: float\n",
    "        :param epochs: int, number of full passes over the data\n",
    "        :param batch_size: int, size of each mini-batch\n",
    "        :param debug: bool, enable/disable RSS debug every (print_every) epochs\n",
    "        :param print_every: int, how often (in epochs) to print RSS\n",
    "        \"\"\"\n",
    "        # Add intercept column\n",
    "        self.learning_rate = learning_rate\n",
    "        self.epochs = epochs\n",
    "        self.batch_size = batch_size\n",
    "        self.print_every = print_every\n",
    "        self.coeffs = np.array([0])\n",
    "        self.debug = debug\n",
    "\n",
    "    def rss(self, X, Y):\n",
    "        \"\"\"\n",
    "        Get residual sum of squares for multiple features\n",
    "        \n",
    "        :return: Residual sum of squares (float)\n",
    "        \"\"\"\n",
    "        preds = X.dot(self.coeffs)\n",
    "        return np.sum((Y - preds) ** 2)\n",
    "            \n",
    "    def fit(self, X, Y):\n",
    "        \"\"\"\n",
    "        Trains a model to minimize the RSS, tuning the coefficients for the train data, using Mini-batch gradient descent\n",
    "        :return: None\n",
    "        \"\"\"\n",
    "        X = pd.concat(\n",
    "            [pd.DataFrame(np.ones((X.shape[0], 1)), columns=['Intercept']), \n",
    "             X.reset_index(drop=True)], \n",
    "            axis=1\n",
    "        ).to_numpy()\n",
    "        \n",
    "        Y = Y.reset_index(drop=True).to_numpy()\n",
    "\n",
    "        self.coeffs = np.zeros(X.shape[1])\n",
    "\n",
    "        n_samples = X.shape[0]\n",
    "        \n",
    "        for epoch in range(1, self.epochs + 1):\n",
    "            perm = np.random.permutation(n_samples)\n",
    "            X_shuf = X[perm]\n",
    "            y_shuf = Y[perm]\n",
    "\n",
    "            # iterate mini-batches\n",
    "            for start in range(0, n_samples, self.batch_size):\n",
    "                end = start + self.batch_size\n",
    "                X_batch = X_shuf[start:end]\n",
    "                y_batch = y_shuf[start:end]\n",
    "\n",
    "                preds = X_batch.dot(self.coeffs)\n",
    "                errors = preds - y_batch\n",
    "\n",
    "                grad = 2 * X_batch.T.dot(errors) / X_batch.shape[0]\n",
    "\n",
    "                self.coeffs -= self.learning_rate * grad\n",
    "                \n",
    "            if self.debug and (epoch % self.print_every == 0 or epoch == 1):\n",
    "                print(f\"Epoch {epoch:4d} — RSS: {self.rss(X, Y):.2f}\")\n",
    "\n",
    "    def predict(self, X_test):\n",
    "        \"\"\"\n",
    "        Predicts the target values for all rows\n",
    "        :param X_test: features of all test cases\n",
    "        :return: pd Dataframe of target variables for each test case\n",
    "        \"\"\"\n",
    "        return X_test.dot(np.array(self.coeffs[1:])) + np.array(self.coeffs[0])"
   ],
   "id": "8552d3591eaa6063",
   "outputs": [],
   "execution_count": 16
  },
  {
   "metadata": {},
   "cell_type": "markdown",
   "source": "This implementation has 3 hyperparameters to tune: learning_rate, epochs, batch_size. We'll be tuning stuff a little later.",
   "id": "4fc3040ada981630"
  },
  {
   "metadata": {},
   "cell_type": "markdown",
   "source": "## K-Nearest neighbours regression",
   "id": "b62d174cbce62f13"
  },
  {
   "metadata": {
    "ExecuteTime": {
     "end_time": "2025-08-06T07:13:02.729705Z",
     "start_time": "2025-08-06T07:13:02.726990Z"
    }
   },
   "cell_type": "code",
   "source": [
    "class KNNRegression:\n",
    "    def __init__(self, k=3):\n",
    "        \"\"\"\n",
    "        Initialize the KNN Regressor\n",
    "        :param k: the number of nearest neighbors to consider\n",
    "        \"\"\"\n",
    "        self.k = k\n",
    "    \n",
    "    def fit(self, X, Y):\n",
    "        \"\"\"\n",
    "        Store the training data.\n",
    "        :param X: Training features\n",
    "        :param Y: Training target values\n",
    "        \"\"\"\n",
    "        self.X_train = X\n",
    "        self.Y_train = np.array(Y)\n",
    "        \n",
    "    def predict(self, X_test):\n",
    "        \"\"\"\n",
    "        Predict the target values for the test data.\n",
    "        :param X_test: Test features\n",
    "        :return: Predicted target values\n",
    "        \"\"\"\n",
    "        X_test = np.array(X_test)\n",
    "        predictions = []\n",
    "\n",
    "        for point in X_test:\n",
    "            # Compute distances from the test point to all training points\n",
    "            per_axis_distances = self.X_train - point\n",
    "            distances = np.linalg.norm(per_axis_distances, axis=1)\n",
    "            \n",
    "            # Get indices of the k nearest neighbors\n",
    "            sorted_indices = np.argsort(distances)\n",
    "            k_indices = sorted_indices[:self.k]\n",
    "            \n",
    "            # Compute the average of the target values of the k nearest neighbors\n",
    "            k_nearest_targets = self.Y_train[k_indices]\n",
    "            predictions.append(np.mean(k_nearest_targets))\n",
    "        \n",
    "        return np.array(predictions)"
   ],
   "id": "a8463db72ff69ed2",
   "outputs": [],
   "execution_count": 17
  },
  {
   "metadata": {},
   "cell_type": "markdown",
   "source": "As we scaled the numeric features previously, the algorithm should work pretty well in this case. We'll tune the hyperparameters later.",
   "id": "6899de5e49a0e3c0"
  },
  {
   "metadata": {},
   "cell_type": "markdown",
   "source": "## Out of the box performance assessment",
   "id": "281fac846265622a"
  },
  {
   "metadata": {
    "ExecuteTime": {
     "end_time": "2025-08-06T07:13:03.926961Z",
     "start_time": "2025-08-06T07:13:02.730318Z"
    }
   },
   "cell_type": "code",
   "source": [
    "from sklearn.metrics       import mean_absolute_error, r2_score\n",
    "from sklearn.linear_model import LinearRegression as SKLinear\n",
    "\n",
    "models = {\n",
    "    'SKLearn LinearRegression': SKLinear(),\n",
    "    'MiniBatch GD LinearRegression': LinearRegression(\n",
    "                                     learning_rate=1e-3,\n",
    "                                     epochs=200,\n",
    "                                     debug=True\n",
    "                                ),\n",
    "    'KNNRegression (k=3)': KNNRegression(k=3)\n",
    "}\n",
    "\n",
    "X_train, X_test, Y_train, Y_test = sklearn.model_selection.train_test_split(X_std.astype(np.float64), Y, test_size=0.3, random_state=42)\n",
    "\n",
    "for name, model in models.items():\n",
    "    model.fit(X_train, Y_train)\n",
    "    pred= model.predict(X_test)\n",
    "    print(f\"{name} → MAE: \"\n",
    "          f\"{mean_absolute_error(Y_test, pred):.3f}, \"\n",
    "          f\"R²: {r2_score(Y_test, pred):.3f}\")"
   ],
   "id": "b4c1768e4de3192e",
   "outputs": [
    {
     "name": "stdout",
     "output_type": "stream",
     "text": [
      "SKLearn LinearRegression → MAE: 1.161, R²: 0.675\n",
      "Epoch    1 — RSS: 6141592.01\n",
      "Epoch  100 — RSS: 66308.01\n",
      "Epoch  200 — RSS: 31181.47\n",
      "MiniBatch GD LinearRegression → MAE: 1.321, R²: 0.629\n",
      "KNNRegression (k=3) → MAE: 1.527, R²: 0.507\n"
     ]
    }
   ],
   "execution_count": 18
  },
  {
   "metadata": {},
   "cell_type": "markdown",
   "source": "Okay, the models are looking pretty good compared to the baseline considering there was no tuning yet.",
   "id": "591a5f756f8f4e0"
  },
  {
   "metadata": {},
   "cell_type": "markdown",
   "source": [
    "## Hyperparameters tuning\n",
    "\n",
    "### Linear regression tuning\n",
    "\n",
    "Here we can tune learning rate, batch size and # of epochs. Let's do some tuning!"
   ],
   "id": "3d387f86b128f4bd"
  },
  {
   "metadata": {},
   "cell_type": "markdown",
   "source": "#### Learning rate\n",
   "id": "148d069a32681ea4"
  },
  {
   "metadata": {
    "ExecuteTime": {
     "end_time": "2025-08-06T07:13:06.854020Z",
     "start_time": "2025-08-06T07:13:03.927971Z"
    }
   },
   "cell_type": "code",
   "source": [
    "# Tuning learning rate!\n",
    "\n",
    "learning_rates = [1e-1, 1e-2, 1e-3, 1e-4, 1e-5]\n",
    "\n",
    "# Fix epochs and batch size\n",
    "epochs = 1000\n",
    "batch_size = 32\n",
    "\n",
    "results = []\n",
    "\n",
    "for lr in learning_rates:\n",
    "    model = LinearRegression(\n",
    "        learning_rate=lr,\n",
    "        epochs=epochs,\n",
    "        batch_size=batch_size,\n",
    "    )\n",
    "    \n",
    "    model.fit(X_train, Y_train)\n",
    "    preds = model.predict(X_test)\n",
    "    mae = mean_absolute_error(Y_test, preds)\n",
    "    \n",
    "    results.append((lr, mae))\n",
    "    print(f\"lr={lr:<6} → MAE = {mae:.4f}\")\n",
    "\n",
    "plt.figure(figsize=(8, 5))\n",
    "plt.plot(learning_rates, [i[1] for i in results], marker='o', linestyle='-')\n",
    "plt.xscale('log')\n",
    "plt.xlabel('Learning rate (log scale)')\n",
    "plt.ylabel('Test MAE')\n",
    "plt.title('MAE vs Learning Rate')\n",
    "plt.grid(True, which='both', ls='--', alpha=0.5)\n",
    "plt.show()"
   ],
   "id": "dec5af7ff6d7d661",
   "outputs": [
    {
     "name": "stdout",
     "output_type": "stream",
     "text": [
      "lr=0.1    → MAE = 1.1683\n",
      "lr=0.01   → MAE = 1.1698\n",
      "lr=0.001  → MAE = 1.1602\n",
      "lr=0.0001 → MAE = 2.6072\n",
      "lr=1e-05  → MAE = 8.1287\n"
     ]
    },
    {
     "data": {
      "text/plain": [
       "<Figure size 800x500 with 1 Axes>"
      ],
      "image/png": "[encoded data removed]"
     },
     "metadata": {},
     "output_type": "display_data"
    }
   ],
   "execution_count": 19
  },
  {
   "metadata": {},
   "cell_type": "markdown",
   "source": "10^-3 looks like a good balance between precision and speed",
   "id": "1f65e0878ae14903"
  },
  {
   "metadata": {},
   "cell_type": "markdown",
   "source": "#### Batch size\n",
   "id": "82cf0e260d20f366"
  },
  {
   "metadata": {
    "ExecuteTime": {
     "end_time": "2025-08-06T07:13:12.771767Z",
     "start_time": "2025-08-06T07:13:06.854646Z"
    }
   },
   "cell_type": "code",
   "source": [
    "# Tuning batch size!\n",
    "\n",
    "learning_rate = 1e-3\n",
    "epochs = 1500\n",
    "\n",
    "batch_sizes = [8, 16, 32, 64, 128]\n",
    "\n",
    "results = []\n",
    "\n",
    "for bs in batch_sizes:\n",
    "    model = LinearRegression(\n",
    "        learning_rate=learning_rate,\n",
    "        epochs=epochs,\n",
    "        batch_size=bs,\n",
    "    )\n",
    "    \n",
    "    model.fit(X_train, Y_train)\n",
    "    preds = model.predict(X_test)\n",
    "    mae = mean_absolute_error(Y_test, preds)\n",
    "    \n",
    "    results.append((bs, mae))\n",
    "    print(f\"bs={bs} → MAE = {mae:.4f}\")\n",
    "\n",
    "plt.figure(figsize=(8, 5))\n",
    "plt.plot(batch_sizes,  [i[1] for i in results], marker='o', linestyle='-')\n",
    "plt.xlabel('Batch size')\n",
    "plt.ylabel('Test MAE')\n",
    "plt.title('MAE vs Batch size')\n",
    "plt.grid(True, which='both', ls='--', alpha=0.5)\n",
    "plt.show()"
   ],
   "id": "4884f1a9a9920f9d",
   "outputs": [
    {
     "name": "stdout",
     "output_type": "stream",
     "text": [
      "bs=8 → MAE = 1.1582\n",
      "bs=16 → MAE = 1.1612\n",
      "bs=32 → MAE = 1.1615\n",
      "bs=64 → MAE = 1.1608\n",
      "bs=128 → MAE = 1.1627\n"
     ]
    },
    {
     "data": {
      "text/plain": [
       "<Figure size 800x500 with 1 Axes>"
      ],
      "image/png": "[encoded data removed]"
     },
     "metadata": {},
     "output_type": "display_data"
    }
   ],
   "execution_count": 20
  },
  {
   "metadata": {},
   "cell_type": "markdown",
   "source": "The difference between batch sizes isn't statistically significant, as long as you don't choose a value too small or too big. I'll stick with 32 here.",
   "id": "3209c34f46a49d8c"
  },
  {
   "metadata": {},
   "cell_type": "markdown",
   "source": "#### Epochs count",
   "id": "c91e0b8fb91bd200"
  },
  {
   "metadata": {
    "ExecuteTime": {
     "end_time": "2025-08-06T07:13:18.912094Z",
     "start_time": "2025-08-06T07:13:12.772531Z"
    }
   },
   "cell_type": "code",
   "source": [
    "# Tuning # of epochs!\n",
    "\n",
    "learning_rate = 1e-3\n",
    "batch_size = 32\n",
    "\n",
    "epochs = [250, 300, 500, 1000, 1500, 2000, 2500, 3000]\n",
    "\n",
    "results = []\n",
    "\n",
    "for ep in epochs:\n",
    "    model = LinearRegression(\n",
    "        learning_rate=learning_rate,\n",
    "        epochs=ep,\n",
    "        batch_size=batch_size,\n",
    "    )\n",
    "    \n",
    "    model.fit(X_train, Y_train)\n",
    "    preds = model.predict(X_test)\n",
    "    mae = mean_absolute_error(Y_test, preds)\n",
    "    \n",
    "    results.append(mae)\n",
    "    print(f\"ep={ep} → MAE = {mae:.4f}\")\n",
    "\n",
    "plt.figure(figsize=(8, 5))\n",
    "plt.plot(epochs, results, marker='o', linestyle='-')\n",
    "plt.xlabel('Epochs count')\n",
    "plt.ylabel('Test MAE')\n",
    "plt.title('MAE vs Epochs count')\n",
    "plt.grid(True, which='both', ls='--', alpha=0.5)\n",
    "plt.show()"
   ],
   "id": "4f7f3c2329960722",
   "outputs": [
    {
     "name": "stdout",
     "output_type": "stream",
     "text": [
      "ep=250 → MAE = 1.2057\n",
      "ep=300 → MAE = 1.1739\n",
      "ep=500 → MAE = 1.1608\n",
      "ep=1000 → MAE = 1.1609\n",
      "ep=1500 → MAE = 1.1617\n",
      "ep=2000 → MAE = 1.1604\n",
      "ep=2500 → MAE = 1.1613\n",
      "ep=3000 → MAE = 1.1612\n"
     ]
    },
    {
     "data": {
      "text/plain": [
       "<Figure size 800x500 with 1 Axes>"
      ],
      "image/png": "[encoded data removed]"
     },
     "metadata": {},
     "output_type": "display_data"
    }
   ],
   "execution_count": 21
  },
  {
   "metadata": {},
   "cell_type": "markdown",
   "source": "The regression seems to converge after 500 epochs. I'll keep 1000 in case the number is bigger in other folds.",
   "id": "91ec691034df9502"
  },
  {
   "metadata": {},
   "cell_type": "markdown",
   "source": [
    "### K-nearest neighbours tuning\n",
    "Here we can only tune the k"
   ],
   "id": "d4113ca6fb95291c"
  },
  {
   "metadata": {
    "ExecuteTime": {
     "end_time": "2025-08-06T07:13:27.374624Z",
     "start_time": "2025-08-06T07:13:18.912816Z"
    }
   },
   "cell_type": "code",
   "source": [
    "# Tuning k value!\n",
    "\n",
    "k_grid = [3, 5, 7, 10, 15, 20, 25, 30, 35, 40, 45, 50] \n",
    "knn_results = []\n",
    "for k in k_grid:\n",
    "    knn = KNNRegression(k=k)\n",
    "    knn.fit(X_train, Y_train)\n",
    "    preds = knn.predict(X_test)\n",
    "    mae = mean_absolute_error(Y_test, preds)\n",
    "\n",
    "    print(f\"k={k} → MAE = {mae:.4f}\")\n",
    "    knn_results.append(mae)\n",
    "\n",
    "plt.figure(figsize=(8, 5))\n",
    "plt.plot(k_grid, knn_results, marker='o', linestyle='-')\n",
    "plt.xlabel('K value')\n",
    "plt.ylabel('Test MAE')\n",
    "plt.title('MAE vs K value')\n",
    "plt.grid(True, which='both', ls='--', alpha=0.5)\n",
    "plt.show()"
   ],
   "id": "6487c68da6825e0c",
   "outputs": [
    {
     "name": "stdout",
     "output_type": "stream",
     "text": [
      "k=3 → MAE = 1.5273\n",
      "k=5 → MAE = 1.4691\n",
      "k=7 → MAE = 1.4379\n",
      "k=10 → MAE = 1.4106\n",
      "k=15 → MAE = 1.3763\n",
      "k=20 → MAE = 1.3564\n",
      "k=25 → MAE = 1.3402\n",
      "k=30 → MAE = 1.3375\n",
      "k=35 → MAE = 1.3385\n",
      "k=40 → MAE = 1.3407\n",
      "k=45 → MAE = 1.3432\n",
      "k=50 → MAE = 1.3495\n"
     ]
    },
    {
     "data": {
      "text/plain": [
       "<Figure size 800x500 with 1 Axes>"
      ],
      "image/png": "[encoded data removed]"
     },
     "metadata": {},
     "output_type": "display_data"
    }
   ],
   "execution_count": 22
  },
  {
   "metadata": {},
   "cell_type": "markdown",
   "source": "Let's stick with 30 here",
   "id": "a3879c38cf70fc43"
  },
  {
   "metadata": {},
   "cell_type": "markdown",
   "source": [
    "## K-fold cross-validation\n",
    "\n",
    "MAE and R^2 benchmarks"
   ],
   "id": "5dffa593b1792cc9"
  },
  {
   "metadata": {
    "ExecuteTime": {
     "end_time": "2025-08-06T07:13:33.177291Z",
     "start_time": "2025-08-06T07:13:27.375341Z"
    }
   },
   "cell_type": "code",
   "source": [
    "k = 5  # Number of folds\n",
    "kf = sklearn.model_selection.KFold(n_splits=k, shuffle=True, random_state=42)\n",
    "\n",
    "\n",
    "\n",
    "models = {\n",
    "    'SKLearn LinearRegression': SKLinear(),\n",
    "    'MiniBatch GD LinearRegression': LinearRegression(\n",
    "                                     learning_rate=1e-3,\n",
    "                                     batch_size=32,\n",
    "                                     epochs=1000\n",
    "                                ),\n",
    "    'KNNRegression (k=30)': KNNRegression(k=30)\n",
    "}\n",
    "\n",
    "mae_scores = {name: [] for name in models}\n",
    "r_squared = {name: [] for name in models}\n",
    "\n",
    "\n",
    "for train_index, test_index in kf.split(X):\n",
    "    X_train, X_test = X_std.astype(np.float64).iloc[train_index], X_std.astype(np.float64).iloc[test_index]\n",
    "    Y_train, Y_test = Y.iloc[train_index], Y.iloc[test_index]\n",
    "    for name, model in models.items():\n",
    "        model.fit(X_train, Y_train)\n",
    "        pred= model.predict(X_test)\n",
    "        mae_scores[name].append(mean_absolute_error(Y_test, pred))\n",
    "        r_squared[name].append(r2_score(Y_test, pred))        \n",
    "\n",
    "for name in models:\n",
    "    print(f\"--- {name} ---\")\n",
    "    print(f\"Average MAE across {k} folds: {np.mean(mae_scores[name]):.4f}\")\n",
    "    print(f\"Average R^2 across {k} folds: {np.mean(r_squared[name]):.3f}\\n\") "
   ],
   "id": "b813c065b19d8afd",
   "outputs": [
    {
     "name": "stdout",
     "output_type": "stream",
     "text": [
      "--- SKLearn LinearRegression ---\n",
      "Average MAE across 5 folds: 1.1994\n",
      "Average R^2 across 5 folds: 0.636\n",
      "\n",
      "--- MiniBatch GD LinearRegression ---\n",
      "Average MAE across 5 folds: 1.1994\n",
      "Average R^2 across 5 folds: 0.636\n",
      "\n",
      "--- KNNRegression (k=30) ---\n",
      "Average MAE across 5 folds: 1.3699\n",
      "Average R^2 across 5 folds: 0.596\n",
      "\n"
     ]
    }
   ],
   "execution_count": 23
  },
  {
   "metadata": {},
   "cell_type": "markdown",
   "source": [
    "# Conclusion\n",
    "Both the built-in scikit-learn LinearRegression and our custom mini-batch gradient descent implementation delivered identical results under 5-fold cross-validation, achieving an average MAE of 1.199 and R² of 0.636. This confirms that the custom solver is correct and reaches the same optimum as the closed-form solution.\n",
    "\n",
    "The KNN regressor with k = 30 was less accurate, with an average MAE of 1.370 and R² of 0.596, showing that a global linear relationship among attendance and study hours explains more variance than local averaging in this dataset.\n",
    "\n",
    "A well-tuned linear model therefore offers the best combination of prediction accuracy, interpretability and efficiency for forecasting exam scores here.\n",
    "\n"
   ],
   "id": "8a9cf44f0967a255"
  },
  {
   "metadata": {},
   "cell_type": "code",
   "outputs": [],
   "execution_count": null,
   "source": "",
   "id": "614adc5284352382"
  }
 ],
 "metadata": {
  "kernelspec": {
   "display_name": "Python 3",
   "language": "python",
   "name": "python3"
  },
  "language_info": {
   "codemirror_mode": {
    "name": "ipython",
    "version": 2
   },
   "file_extension": ".py",
   "mimetype": "text/x-python",
   "name": "python",
   "nbconvert_exporter": "python",
   "pygments_lexer": "ipython2",
   "version": "2.7.6"
  }
 },
 "nbformat": 4,
 "nbformat_minor": 5
}
